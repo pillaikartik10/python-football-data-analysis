{
 "cells": [
  {
   "cell_type": "markdown",
   "id": "diagnostic-breakdown",
   "metadata": {},
   "source": [
    "# Data Analysis on Football Results Dataset  \n",
    "  "
   ]
  },
  {
   "cell_type": "markdown",
   "id": "proud-geology",
   "metadata": {},
   "source": [
    "Dataset Link : [Kaggle](https://www.kaggle.com/martj42/international-football-results-from-1872-to-2017)"
   ]
  },
  {
   "cell_type": "markdown",
   "id": "respiratory-thumbnail",
   "metadata": {},
   "source": [
    "Football is the most popular sport in the world, and one of the oldest too. Having been around in various forms and under various names, it has become a global phenomenon in the past couple of centuries.  \n",
    "  \n",
    "This dataset has the results of 42,000 + international games, from the year 1872 to the present decade. Each record contains the date of the game, the names of the participant teams and the number of goals scored by each, whether it was a part of any tournament or a friendly, and where it took place.  "
   ]
  },
  {
   "cell_type": "code",
   "execution_count": 1,
   "id": "compound-daniel",
   "metadata": {},
   "outputs": [],
   "source": [
    "import pandas as pd\n",
    "import numpy as np"
   ]
  },
  {
   "cell_type": "code",
   "execution_count": 2,
   "id": "specific-rough",
   "metadata": {},
   "outputs": [
    {
     "data": {
      "text/html": [
       "        <script type=\"text/javascript\">\n",
       "        window.PlotlyConfig = {MathJaxConfig: 'local'};\n",
       "        if (window.MathJax) {MathJax.Hub.Config({SVG: {font: \"STIX-Web\"}});}\n",
       "        if (typeof require !== 'undefined') {\n",
       "        require.undef(\"plotly\");\n",
       "        requirejs.config({\n",
       "            paths: {\n",
       "                'plotly': ['https://cdn.plot.ly/plotly-latest.min']\n",
       "            }\n",
       "        });\n",
       "        require(['plotly'], function(Plotly) {\n",
       "            window._Plotly = Plotly;\n",
       "        });\n",
       "        }\n",
       "        </script>\n",
       "        "
      ]
     },
     "metadata": {},
     "output_type": "display_data"
    }
   ],
   "source": [
    "import chart_studio.plotly as py\n",
    "from plotly import tools\n",
    "from plotly.offline import init_notebook_mode,iplot\n",
    "init_notebook_mode(connected=True)\n",
    "import plotly.figure_factory as ff\n",
    "import plotly.graph_objs as go"
   ]
  },
  {
   "cell_type": "code",
   "execution_count": 3,
   "id": "fleet-seattle",
   "metadata": {},
   "outputs": [
    {
     "data": {
      "text/html": [
       "<div>\n",
       "<style scoped>\n",
       "    .dataframe tbody tr th:only-of-type {\n",
       "        vertical-align: middle;\n",
       "    }\n",
       "\n",
       "    .dataframe tbody tr th {\n",
       "        vertical-align: top;\n",
       "    }\n",
       "\n",
       "    .dataframe thead th {\n",
       "        text-align: right;\n",
       "    }\n",
       "</style>\n",
       "<table border=\"1\" class=\"dataframe\">\n",
       "  <thead>\n",
       "    <tr style=\"text-align: right;\">\n",
       "      <th></th>\n",
       "      <th>date</th>\n",
       "      <th>home_team</th>\n",
       "      <th>away_team</th>\n",
       "      <th>home_score</th>\n",
       "      <th>away_score</th>\n",
       "      <th>tournament</th>\n",
       "      <th>city</th>\n",
       "      <th>country</th>\n",
       "      <th>neutral</th>\n",
       "    </tr>\n",
       "  </thead>\n",
       "  <tbody>\n",
       "    <tr>\n",
       "      <th>0</th>\n",
       "      <td>1872-11-30</td>\n",
       "      <td>Scotland</td>\n",
       "      <td>England</td>\n",
       "      <td>0</td>\n",
       "      <td>0</td>\n",
       "      <td>Friendly</td>\n",
       "      <td>Glasgow</td>\n",
       "      <td>Scotland</td>\n",
       "      <td>False</td>\n",
       "    </tr>\n",
       "    <tr>\n",
       "      <th>1</th>\n",
       "      <td>1873-03-08</td>\n",
       "      <td>England</td>\n",
       "      <td>Scotland</td>\n",
       "      <td>4</td>\n",
       "      <td>2</td>\n",
       "      <td>Friendly</td>\n",
       "      <td>London</td>\n",
       "      <td>England</td>\n",
       "      <td>False</td>\n",
       "    </tr>\n",
       "    <tr>\n",
       "      <th>2</th>\n",
       "      <td>1874-03-07</td>\n",
       "      <td>Scotland</td>\n",
       "      <td>England</td>\n",
       "      <td>2</td>\n",
       "      <td>1</td>\n",
       "      <td>Friendly</td>\n",
       "      <td>Glasgow</td>\n",
       "      <td>Scotland</td>\n",
       "      <td>False</td>\n",
       "    </tr>\n",
       "    <tr>\n",
       "      <th>3</th>\n",
       "      <td>1875-03-06</td>\n",
       "      <td>England</td>\n",
       "      <td>Scotland</td>\n",
       "      <td>2</td>\n",
       "      <td>2</td>\n",
       "      <td>Friendly</td>\n",
       "      <td>London</td>\n",
       "      <td>England</td>\n",
       "      <td>False</td>\n",
       "    </tr>\n",
       "    <tr>\n",
       "      <th>4</th>\n",
       "      <td>1876-03-04</td>\n",
       "      <td>Scotland</td>\n",
       "      <td>England</td>\n",
       "      <td>3</td>\n",
       "      <td>0</td>\n",
       "      <td>Friendly</td>\n",
       "      <td>Glasgow</td>\n",
       "      <td>Scotland</td>\n",
       "      <td>False</td>\n",
       "    </tr>\n",
       "    <tr>\n",
       "      <th>...</th>\n",
       "      <td>...</td>\n",
       "      <td>...</td>\n",
       "      <td>...</td>\n",
       "      <td>...</td>\n",
       "      <td>...</td>\n",
       "      <td>...</td>\n",
       "      <td>...</td>\n",
       "      <td>...</td>\n",
       "      <td>...</td>\n",
       "    </tr>\n",
       "    <tr>\n",
       "      <th>42079</th>\n",
       "      <td>2021-03-31</td>\n",
       "      <td>Andorra</td>\n",
       "      <td>Hungary</td>\n",
       "      <td>1</td>\n",
       "      <td>4</td>\n",
       "      <td>FIFA World Cup qualification</td>\n",
       "      <td>Andorra la Vella</td>\n",
       "      <td>Andorra</td>\n",
       "      <td>False</td>\n",
       "    </tr>\n",
       "    <tr>\n",
       "      <th>42080</th>\n",
       "      <td>2021-03-31</td>\n",
       "      <td>San Marino</td>\n",
       "      <td>Albania</td>\n",
       "      <td>0</td>\n",
       "      <td>2</td>\n",
       "      <td>FIFA World Cup qualification</td>\n",
       "      <td>Serravalle</td>\n",
       "      <td>San Marino</td>\n",
       "      <td>False</td>\n",
       "    </tr>\n",
       "    <tr>\n",
       "      <th>42081</th>\n",
       "      <td>2021-03-31</td>\n",
       "      <td>Armenia</td>\n",
       "      <td>Romania</td>\n",
       "      <td>3</td>\n",
       "      <td>2</td>\n",
       "      <td>FIFA World Cup qualification</td>\n",
       "      <td>Yerevan</td>\n",
       "      <td>Armenia</td>\n",
       "      <td>False</td>\n",
       "    </tr>\n",
       "    <tr>\n",
       "      <th>42082</th>\n",
       "      <td>2021-03-31</td>\n",
       "      <td>Germany</td>\n",
       "      <td>North Macedonia</td>\n",
       "      <td>1</td>\n",
       "      <td>2</td>\n",
       "      <td>FIFA World Cup qualification</td>\n",
       "      <td>Duisburg</td>\n",
       "      <td>Germany</td>\n",
       "      <td>False</td>\n",
       "    </tr>\n",
       "    <tr>\n",
       "      <th>42083</th>\n",
       "      <td>2021-03-31</td>\n",
       "      <td>Liechtenstein</td>\n",
       "      <td>Iceland</td>\n",
       "      <td>1</td>\n",
       "      <td>4</td>\n",
       "      <td>FIFA World Cup qualification</td>\n",
       "      <td>Vaduz</td>\n",
       "      <td>Liechtenstein</td>\n",
       "      <td>False</td>\n",
       "    </tr>\n",
       "  </tbody>\n",
       "</table>\n",
       "<p>42084 rows × 9 columns</p>\n",
       "</div>"
      ],
      "text/plain": [
       "             date      home_team        away_team  home_score  away_score  \\\n",
       "0      1872-11-30       Scotland          England           0           0   \n",
       "1      1873-03-08        England         Scotland           4           2   \n",
       "2      1874-03-07       Scotland          England           2           1   \n",
       "3      1875-03-06        England         Scotland           2           2   \n",
       "4      1876-03-04       Scotland          England           3           0   \n",
       "...           ...            ...              ...         ...         ...   \n",
       "42079  2021-03-31        Andorra          Hungary           1           4   \n",
       "42080  2021-03-31     San Marino          Albania           0           2   \n",
       "42081  2021-03-31        Armenia          Romania           3           2   \n",
       "42082  2021-03-31        Germany  North Macedonia           1           2   \n",
       "42083  2021-03-31  Liechtenstein          Iceland           1           4   \n",
       "\n",
       "                         tournament              city        country  neutral  \n",
       "0                          Friendly           Glasgow       Scotland    False  \n",
       "1                          Friendly            London        England    False  \n",
       "2                          Friendly           Glasgow       Scotland    False  \n",
       "3                          Friendly            London        England    False  \n",
       "4                          Friendly           Glasgow       Scotland    False  \n",
       "...                             ...               ...            ...      ...  \n",
       "42079  FIFA World Cup qualification  Andorra la Vella        Andorra    False  \n",
       "42080  FIFA World Cup qualification        Serravalle     San Marino    False  \n",
       "42081  FIFA World Cup qualification           Yerevan        Armenia    False  \n",
       "42082  FIFA World Cup qualification          Duisburg        Germany    False  \n",
       "42083  FIFA World Cup qualification             Vaduz  Liechtenstein    False  \n",
       "\n",
       "[42084 rows x 9 columns]"
      ]
     },
     "execution_count": 3,
     "metadata": {},
     "output_type": "execute_result"
    }
   ],
   "source": [
    "df = pd.read_csv(\"results.csv\")\n",
    "df"
   ]
  },
  {
   "cell_type": "code",
   "execution_count": 4,
   "id": "beneficial-planning",
   "metadata": {},
   "outputs": [
    {
     "data": {
      "text/html": [
       "<div>\n",
       "<style scoped>\n",
       "    .dataframe tbody tr th:only-of-type {\n",
       "        vertical-align: middle;\n",
       "    }\n",
       "\n",
       "    .dataframe tbody tr th {\n",
       "        vertical-align: top;\n",
       "    }\n",
       "\n",
       "    .dataframe thead th {\n",
       "        text-align: right;\n",
       "    }\n",
       "</style>\n",
       "<table border=\"1\" class=\"dataframe\">\n",
       "  <thead>\n",
       "    <tr style=\"text-align: right;\">\n",
       "      <th></th>\n",
       "      <th>home_score</th>\n",
       "      <th>away_score</th>\n",
       "    </tr>\n",
       "  </thead>\n",
       "  <tbody>\n",
       "    <tr>\n",
       "      <th>count</th>\n",
       "      <td>42084.000000</td>\n",
       "      <td>42084.000000</td>\n",
       "    </tr>\n",
       "    <tr>\n",
       "      <th>mean</th>\n",
       "      <td>1.743632</td>\n",
       "      <td>1.186579</td>\n",
       "    </tr>\n",
       "    <tr>\n",
       "      <th>std</th>\n",
       "      <td>1.752441</td>\n",
       "      <td>1.403935</td>\n",
       "    </tr>\n",
       "    <tr>\n",
       "      <th>min</th>\n",
       "      <td>0.000000</td>\n",
       "      <td>0.000000</td>\n",
       "    </tr>\n",
       "    <tr>\n",
       "      <th>25%</th>\n",
       "      <td>1.000000</td>\n",
       "      <td>0.000000</td>\n",
       "    </tr>\n",
       "    <tr>\n",
       "      <th>50%</th>\n",
       "      <td>1.000000</td>\n",
       "      <td>1.000000</td>\n",
       "    </tr>\n",
       "    <tr>\n",
       "      <th>75%</th>\n",
       "      <td>2.000000</td>\n",
       "      <td>2.000000</td>\n",
       "    </tr>\n",
       "    <tr>\n",
       "      <th>max</th>\n",
       "      <td>31.000000</td>\n",
       "      <td>21.000000</td>\n",
       "    </tr>\n",
       "  </tbody>\n",
       "</table>\n",
       "</div>"
      ],
      "text/plain": [
       "         home_score    away_score\n",
       "count  42084.000000  42084.000000\n",
       "mean       1.743632      1.186579\n",
       "std        1.752441      1.403935\n",
       "min        0.000000      0.000000\n",
       "25%        1.000000      0.000000\n",
       "50%        1.000000      1.000000\n",
       "75%        2.000000      2.000000\n",
       "max       31.000000     21.000000"
      ]
     },
     "execution_count": 4,
     "metadata": {},
     "output_type": "execute_result"
    }
   ],
   "source": [
    "df.describe()"
   ]
  },
  {
   "cell_type": "code",
   "execution_count": 5,
   "id": "coated-wages",
   "metadata": {},
   "outputs": [
    {
     "data": {
      "text/plain": [
       "date          object\n",
       "home_team     object\n",
       "away_team     object\n",
       "home_score     int64\n",
       "away_score     int64\n",
       "tournament    object\n",
       "city          object\n",
       "country       object\n",
       "neutral         bool\n",
       "dtype: object"
      ]
     },
     "execution_count": 5,
     "metadata": {},
     "output_type": "execute_result"
    }
   ],
   "source": [
    "df.dtypes"
   ]
  },
  {
   "cell_type": "markdown",
   "id": "planned-forestry",
   "metadata": {},
   "source": [
    "## Adding a winner column"
   ]
  },
  {
   "cell_type": "markdown",
   "id": "piano-jacksonville",
   "metadata": {},
   "source": [
    "Though we have the scores available to us in the *home_score* and *away_score* columns, we do not have a column for the winner of each match. We are going to make this column for future analysis.  \n",
    "  \n",
    "**NOTE** : There is also the possibility of a draw. Matches in which both teams score the equal number of goals are counted as a draw with no winners. "
   ]
  },
  {
   "cell_type": "code",
   "execution_count": 6,
   "id": "global-divorce",
   "metadata": {},
   "outputs": [],
   "source": [
    "df['winner'] = 'Draw'\n",
    "for index in df.index :\n",
    "    if df.loc[index,'home_score'] > df.loc[index,'away_score']:\n",
    "        df.loc[index,'winner'] = df.loc[index,'home_team']\n",
    "    elif df.loc[index,'home_score'] < df.loc[index,'away_score']:\n",
    "        df.loc[index,'winner'] = df.loc[index,'away_team']"
   ]
  },
  {
   "cell_type": "code",
   "execution_count": 7,
   "id": "engaging-armstrong",
   "metadata": {},
   "outputs": [
    {
     "data": {
      "text/html": [
       "<div>\n",
       "<style scoped>\n",
       "    .dataframe tbody tr th:only-of-type {\n",
       "        vertical-align: middle;\n",
       "    }\n",
       "\n",
       "    .dataframe tbody tr th {\n",
       "        vertical-align: top;\n",
       "    }\n",
       "\n",
       "    .dataframe thead th {\n",
       "        text-align: right;\n",
       "    }\n",
       "</style>\n",
       "<table border=\"1\" class=\"dataframe\">\n",
       "  <thead>\n",
       "    <tr style=\"text-align: right;\">\n",
       "      <th></th>\n",
       "      <th>date</th>\n",
       "      <th>home_team</th>\n",
       "      <th>away_team</th>\n",
       "      <th>home_score</th>\n",
       "      <th>away_score</th>\n",
       "      <th>tournament</th>\n",
       "      <th>city</th>\n",
       "      <th>country</th>\n",
       "      <th>neutral</th>\n",
       "      <th>winner</th>\n",
       "    </tr>\n",
       "  </thead>\n",
       "  <tbody>\n",
       "    <tr>\n",
       "      <th>0</th>\n",
       "      <td>1872-11-30</td>\n",
       "      <td>Scotland</td>\n",
       "      <td>England</td>\n",
       "      <td>0</td>\n",
       "      <td>0</td>\n",
       "      <td>Friendly</td>\n",
       "      <td>Glasgow</td>\n",
       "      <td>Scotland</td>\n",
       "      <td>False</td>\n",
       "      <td>Draw</td>\n",
       "    </tr>\n",
       "    <tr>\n",
       "      <th>1</th>\n",
       "      <td>1873-03-08</td>\n",
       "      <td>England</td>\n",
       "      <td>Scotland</td>\n",
       "      <td>4</td>\n",
       "      <td>2</td>\n",
       "      <td>Friendly</td>\n",
       "      <td>London</td>\n",
       "      <td>England</td>\n",
       "      <td>False</td>\n",
       "      <td>England</td>\n",
       "    </tr>\n",
       "    <tr>\n",
       "      <th>2</th>\n",
       "      <td>1874-03-07</td>\n",
       "      <td>Scotland</td>\n",
       "      <td>England</td>\n",
       "      <td>2</td>\n",
       "      <td>1</td>\n",
       "      <td>Friendly</td>\n",
       "      <td>Glasgow</td>\n",
       "      <td>Scotland</td>\n",
       "      <td>False</td>\n",
       "      <td>Scotland</td>\n",
       "    </tr>\n",
       "    <tr>\n",
       "      <th>3</th>\n",
       "      <td>1875-03-06</td>\n",
       "      <td>England</td>\n",
       "      <td>Scotland</td>\n",
       "      <td>2</td>\n",
       "      <td>2</td>\n",
       "      <td>Friendly</td>\n",
       "      <td>London</td>\n",
       "      <td>England</td>\n",
       "      <td>False</td>\n",
       "      <td>Draw</td>\n",
       "    </tr>\n",
       "    <tr>\n",
       "      <th>4</th>\n",
       "      <td>1876-03-04</td>\n",
       "      <td>Scotland</td>\n",
       "      <td>England</td>\n",
       "      <td>3</td>\n",
       "      <td>0</td>\n",
       "      <td>Friendly</td>\n",
       "      <td>Glasgow</td>\n",
       "      <td>Scotland</td>\n",
       "      <td>False</td>\n",
       "      <td>Scotland</td>\n",
       "    </tr>\n",
       "    <tr>\n",
       "      <th>...</th>\n",
       "      <td>...</td>\n",
       "      <td>...</td>\n",
       "      <td>...</td>\n",
       "      <td>...</td>\n",
       "      <td>...</td>\n",
       "      <td>...</td>\n",
       "      <td>...</td>\n",
       "      <td>...</td>\n",
       "      <td>...</td>\n",
       "      <td>...</td>\n",
       "    </tr>\n",
       "    <tr>\n",
       "      <th>42079</th>\n",
       "      <td>2021-03-31</td>\n",
       "      <td>Andorra</td>\n",
       "      <td>Hungary</td>\n",
       "      <td>1</td>\n",
       "      <td>4</td>\n",
       "      <td>FIFA World Cup qualification</td>\n",
       "      <td>Andorra la Vella</td>\n",
       "      <td>Andorra</td>\n",
       "      <td>False</td>\n",
       "      <td>Hungary</td>\n",
       "    </tr>\n",
       "    <tr>\n",
       "      <th>42080</th>\n",
       "      <td>2021-03-31</td>\n",
       "      <td>San Marino</td>\n",
       "      <td>Albania</td>\n",
       "      <td>0</td>\n",
       "      <td>2</td>\n",
       "      <td>FIFA World Cup qualification</td>\n",
       "      <td>Serravalle</td>\n",
       "      <td>San Marino</td>\n",
       "      <td>False</td>\n",
       "      <td>Albania</td>\n",
       "    </tr>\n",
       "    <tr>\n",
       "      <th>42081</th>\n",
       "      <td>2021-03-31</td>\n",
       "      <td>Armenia</td>\n",
       "      <td>Romania</td>\n",
       "      <td>3</td>\n",
       "      <td>2</td>\n",
       "      <td>FIFA World Cup qualification</td>\n",
       "      <td>Yerevan</td>\n",
       "      <td>Armenia</td>\n",
       "      <td>False</td>\n",
       "      <td>Armenia</td>\n",
       "    </tr>\n",
       "    <tr>\n",
       "      <th>42082</th>\n",
       "      <td>2021-03-31</td>\n",
       "      <td>Germany</td>\n",
       "      <td>North Macedonia</td>\n",
       "      <td>1</td>\n",
       "      <td>2</td>\n",
       "      <td>FIFA World Cup qualification</td>\n",
       "      <td>Duisburg</td>\n",
       "      <td>Germany</td>\n",
       "      <td>False</td>\n",
       "      <td>North Macedonia</td>\n",
       "    </tr>\n",
       "    <tr>\n",
       "      <th>42083</th>\n",
       "      <td>2021-03-31</td>\n",
       "      <td>Liechtenstein</td>\n",
       "      <td>Iceland</td>\n",
       "      <td>1</td>\n",
       "      <td>4</td>\n",
       "      <td>FIFA World Cup qualification</td>\n",
       "      <td>Vaduz</td>\n",
       "      <td>Liechtenstein</td>\n",
       "      <td>False</td>\n",
       "      <td>Iceland</td>\n",
       "    </tr>\n",
       "  </tbody>\n",
       "</table>\n",
       "<p>42084 rows × 10 columns</p>\n",
       "</div>"
      ],
      "text/plain": [
       "             date      home_team        away_team  home_score  away_score  \\\n",
       "0      1872-11-30       Scotland          England           0           0   \n",
       "1      1873-03-08        England         Scotland           4           2   \n",
       "2      1874-03-07       Scotland          England           2           1   \n",
       "3      1875-03-06        England         Scotland           2           2   \n",
       "4      1876-03-04       Scotland          England           3           0   \n",
       "...           ...            ...              ...         ...         ...   \n",
       "42079  2021-03-31        Andorra          Hungary           1           4   \n",
       "42080  2021-03-31     San Marino          Albania           0           2   \n",
       "42081  2021-03-31        Armenia          Romania           3           2   \n",
       "42082  2021-03-31        Germany  North Macedonia           1           2   \n",
       "42083  2021-03-31  Liechtenstein          Iceland           1           4   \n",
       "\n",
       "                         tournament              city        country  neutral  \\\n",
       "0                          Friendly           Glasgow       Scotland    False   \n",
       "1                          Friendly            London        England    False   \n",
       "2                          Friendly           Glasgow       Scotland    False   \n",
       "3                          Friendly            London        England    False   \n",
       "4                          Friendly           Glasgow       Scotland    False   \n",
       "...                             ...               ...            ...      ...   \n",
       "42079  FIFA World Cup qualification  Andorra la Vella        Andorra    False   \n",
       "42080  FIFA World Cup qualification        Serravalle     San Marino    False   \n",
       "42081  FIFA World Cup qualification           Yerevan        Armenia    False   \n",
       "42082  FIFA World Cup qualification          Duisburg        Germany    False   \n",
       "42083  FIFA World Cup qualification             Vaduz  Liechtenstein    False   \n",
       "\n",
       "                winner  \n",
       "0                 Draw  \n",
       "1              England  \n",
       "2             Scotland  \n",
       "3                 Draw  \n",
       "4             Scotland  \n",
       "...                ...  \n",
       "42079          Hungary  \n",
       "42080          Albania  \n",
       "42081          Armenia  \n",
       "42082  North Macedonia  \n",
       "42083          Iceland  \n",
       "\n",
       "[42084 rows x 10 columns]"
      ]
     },
     "execution_count": 7,
     "metadata": {},
     "output_type": "execute_result"
    }
   ],
   "source": [
    "df"
   ]
  },
  {
   "cell_type": "code",
   "execution_count": 8,
   "id": "geographic-staff",
   "metadata": {},
   "outputs": [
    {
     "data": {
      "text/plain": [
       "0        0\n",
       "1        4\n",
       "2        2\n",
       "3        2\n",
       "4        3\n",
       "        ..\n",
       "42079    1\n",
       "42080    0\n",
       "42081    3\n",
       "42082    1\n",
       "42083    1\n",
       "Name: home_score, Length: 42084, dtype: int64"
      ]
     },
     "execution_count": 8,
     "metadata": {},
     "output_type": "execute_result"
    }
   ],
   "source": [
    "df['home_score']"
   ]
  },
  {
   "cell_type": "code",
   "execution_count": 9,
   "id": "negative-literature",
   "metadata": {
    "scrolled": true
   },
   "outputs": [
    {
     "data": {
      "text/plain": [
       "count     42084\n",
       "unique      301\n",
       "top        Draw\n",
       "freq       9700\n",
       "Name: winner, dtype: object"
      ]
     },
     "execution_count": 9,
     "metadata": {},
     "output_type": "execute_result"
    }
   ],
   "source": [
    "df['winner'].describe()"
   ]
  },
  {
   "cell_type": "code",
   "execution_count": 10,
   "id": "statewide-diversity",
   "metadata": {},
   "outputs": [
    {
     "data": {
      "text/plain": [
       "date          42084\n",
       "home_team     42084\n",
       "away_team     42084\n",
       "home_score    42084\n",
       "away_score    42084\n",
       "tournament    42084\n",
       "city          42084\n",
       "country       42084\n",
       "neutral       42084\n",
       "winner        42084\n",
       "dtype: int64"
      ]
     },
     "execution_count": 10,
     "metadata": {},
     "output_type": "execute_result"
    }
   ],
   "source": [
    "df.count()"
   ]
  },
  {
   "cell_type": "markdown",
   "id": "extraordinary-valuation",
   "metadata": {},
   "source": [
    "## Saving the modified dataframe as a separate .csv file"
   ]
  },
  {
   "cell_type": "markdown",
   "id": "religious-devil",
   "metadata": {},
   "source": [
    "df.to_csv('results_with_winner.csv',header = False, index = False, encoding = 'utf-8')  \n",
    "  \n",
    "#Delete this comment, and change this to a code cell to make this work. The cell is markdown for now, because running this cell is optional. I don't want to run this cell everytime."
   ]
  },
  {
   "cell_type": "markdown",
   "id": "exact-creativity",
   "metadata": {},
   "source": [
    "## In which Tournament was the highest number of games played?"
   ]
  },
  {
   "cell_type": "code",
   "execution_count": 11,
   "id": "norwegian-miniature",
   "metadata": {
    "scrolled": true
   },
   "outputs": [
    {
     "data": {
      "text/html": [
       "<div>\n",
       "<style scoped>\n",
       "    .dataframe tbody tr th:only-of-type {\n",
       "        vertical-align: middle;\n",
       "    }\n",
       "\n",
       "    .dataframe tbody tr th {\n",
       "        vertical-align: top;\n",
       "    }\n",
       "\n",
       "    .dataframe thead th {\n",
       "        text-align: right;\n",
       "    }\n",
       "</style>\n",
       "<table border=\"1\" class=\"dataframe\">\n",
       "  <thead>\n",
       "    <tr style=\"text-align: right;\">\n",
       "      <th></th>\n",
       "      <th>Tournament</th>\n",
       "      <th>No. of games played</th>\n",
       "    </tr>\n",
       "  </thead>\n",
       "  <tbody>\n",
       "    <tr>\n",
       "      <th>0</th>\n",
       "      <td>Friendly</td>\n",
       "      <td>17189</td>\n",
       "    </tr>\n",
       "    <tr>\n",
       "      <th>1</th>\n",
       "      <td>FIFA World Cup qualification</td>\n",
       "      <td>7365</td>\n",
       "    </tr>\n",
       "    <tr>\n",
       "      <th>2</th>\n",
       "      <td>UEFA Euro qualification</td>\n",
       "      <td>2582</td>\n",
       "    </tr>\n",
       "    <tr>\n",
       "      <th>3</th>\n",
       "      <td>African Cup of Nations qualification</td>\n",
       "      <td>1719</td>\n",
       "    </tr>\n",
       "    <tr>\n",
       "      <th>4</th>\n",
       "      <td>FIFA World Cup</td>\n",
       "      <td>900</td>\n",
       "    </tr>\n",
       "    <tr>\n",
       "      <th>...</th>\n",
       "      <td>...</td>\n",
       "      <td>...</td>\n",
       "    </tr>\n",
       "    <tr>\n",
       "      <th>107</th>\n",
       "      <td>OSN Cup</td>\n",
       "      <td>4</td>\n",
       "    </tr>\n",
       "    <tr>\n",
       "      <th>108</th>\n",
       "      <td>World Unity Cup</td>\n",
       "      <td>4</td>\n",
       "    </tr>\n",
       "    <tr>\n",
       "      <th>109</th>\n",
       "      <td>Atlantic Heritage Cup</td>\n",
       "      <td>2</td>\n",
       "    </tr>\n",
       "    <tr>\n",
       "      <th>110</th>\n",
       "      <td>Copa América qualification</td>\n",
       "      <td>2</td>\n",
       "    </tr>\n",
       "    <tr>\n",
       "      <th>111</th>\n",
       "      <td>AFF Championship qualification</td>\n",
       "      <td>2</td>\n",
       "    </tr>\n",
       "  </tbody>\n",
       "</table>\n",
       "<p>112 rows × 2 columns</p>\n",
       "</div>"
      ],
      "text/plain": [
       "                               Tournament  No. of games played\n",
       "0                                Friendly                17189\n",
       "1            FIFA World Cup qualification                 7365\n",
       "2                 UEFA Euro qualification                 2582\n",
       "3    African Cup of Nations qualification                 1719\n",
       "4                          FIFA World Cup                  900\n",
       "..                                    ...                  ...\n",
       "107                               OSN Cup                    4\n",
       "108                       World Unity Cup                    4\n",
       "109                 Atlantic Heritage Cup                    2\n",
       "110            Copa América qualification                    2\n",
       "111        AFF Championship qualification                    2\n",
       "\n",
       "[112 rows x 2 columns]"
      ]
     },
     "execution_count": 11,
     "metadata": {},
     "output_type": "execute_result"
    }
   ],
   "source": [
    "tournament = df['tournament'].value_counts().reset_index()\n",
    "tournament.columns = ['Tournament','No. of games played']\n",
    "tournament"
   ]
  },
  {
   "cell_type": "code",
   "execution_count": 12,
   "id": "statewide-landscape",
   "metadata": {},
   "outputs": [
    {
     "data": {
      "text/html": [
       "<div>\n",
       "<style scoped>\n",
       "    .dataframe tbody tr th:only-of-type {\n",
       "        vertical-align: middle;\n",
       "    }\n",
       "\n",
       "    .dataframe tbody tr th {\n",
       "        vertical-align: top;\n",
       "    }\n",
       "\n",
       "    .dataframe thead th {\n",
       "        text-align: right;\n",
       "    }\n",
       "</style>\n",
       "<table border=\"1\" class=\"dataframe\">\n",
       "  <thead>\n",
       "    <tr style=\"text-align: right;\">\n",
       "      <th></th>\n",
       "      <th>Tournament</th>\n",
       "      <th>No. of games played</th>\n",
       "    </tr>\n",
       "  </thead>\n",
       "  <tbody>\n",
       "    <tr>\n",
       "      <th>0</th>\n",
       "      <td>Friendly</td>\n",
       "      <td>17189</td>\n",
       "    </tr>\n",
       "    <tr>\n",
       "      <th>1</th>\n",
       "      <td>FIFA World Cup qualification</td>\n",
       "      <td>7365</td>\n",
       "    </tr>\n",
       "    <tr>\n",
       "      <th>2</th>\n",
       "      <td>UEFA Euro qualification</td>\n",
       "      <td>2582</td>\n",
       "    </tr>\n",
       "    <tr>\n",
       "      <th>3</th>\n",
       "      <td>African Cup of Nations qualification</td>\n",
       "      <td>1719</td>\n",
       "    </tr>\n",
       "    <tr>\n",
       "      <th>4</th>\n",
       "      <td>FIFA World Cup</td>\n",
       "      <td>900</td>\n",
       "    </tr>\n",
       "    <tr>\n",
       "      <th>5</th>\n",
       "      <td>Copa América</td>\n",
       "      <td>813</td>\n",
       "    </tr>\n",
       "    <tr>\n",
       "      <th>6</th>\n",
       "      <td>AFC Asian Cup qualification</td>\n",
       "      <td>724</td>\n",
       "    </tr>\n",
       "    <tr>\n",
       "      <th>7</th>\n",
       "      <td>African Cup of Nations</td>\n",
       "      <td>690</td>\n",
       "    </tr>\n",
       "    <tr>\n",
       "      <th>8</th>\n",
       "      <td>CECAFA Cup</td>\n",
       "      <td>620</td>\n",
       "    </tr>\n",
       "    <tr>\n",
       "      <th>9</th>\n",
       "      <td>CFU Caribbean Cup qualification</td>\n",
       "      <td>606</td>\n",
       "    </tr>\n",
       "  </tbody>\n",
       "</table>\n",
       "</div>"
      ],
      "text/plain": [
       "                             Tournament  No. of games played\n",
       "0                              Friendly                17189\n",
       "1          FIFA World Cup qualification                 7365\n",
       "2               UEFA Euro qualification                 2582\n",
       "3  African Cup of Nations qualification                 1719\n",
       "4                        FIFA World Cup                  900\n",
       "5                          Copa América                  813\n",
       "6           AFC Asian Cup qualification                  724\n",
       "7                African Cup of Nations                  690\n",
       "8                            CECAFA Cup                  620\n",
       "9       CFU Caribbean Cup qualification                  606"
      ]
     },
     "execution_count": 12,
     "metadata": {},
     "output_type": "execute_result"
    }
   ],
   "source": [
    "tournament[:10]"
   ]
  },
  {
   "cell_type": "markdown",
   "id": "threaded-vertical",
   "metadata": {},
   "source": [
    "We can see that there has been **111** recorded international tournaments(not including friendlies).  \n",
    "  \n",
    "Unsurprisingly, friendlies have been played more than any individual tournament. The FIFA World Cup qualification has seen the most games among tournaments. "
   ]
  },
  {
   "cell_type": "markdown",
   "id": "second-bones",
   "metadata": {},
   "source": [
    "## Finding out the top 10 teams with most wins  \n",
    "  \n",
    "**Note** : Starting with index 1 as 'Draw' is counted as a team in the 'winner' column."
   ]
  },
  {
   "cell_type": "code",
   "execution_count": 13,
   "id": "worth-relative",
   "metadata": {
    "scrolled": true
   },
   "outputs": [
    {
     "data": {
      "text/html": [
       "<div>\n",
       "<style scoped>\n",
       "    .dataframe tbody tr th:only-of-type {\n",
       "        vertical-align: middle;\n",
       "    }\n",
       "\n",
       "    .dataframe tbody tr th {\n",
       "        vertical-align: top;\n",
       "    }\n",
       "\n",
       "    .dataframe thead th {\n",
       "        text-align: right;\n",
       "    }\n",
       "</style>\n",
       "<table border=\"1\" class=\"dataframe\">\n",
       "  <thead>\n",
       "    <tr style=\"text-align: right;\">\n",
       "      <th></th>\n",
       "      <th>Team</th>\n",
       "      <th>Wins</th>\n",
       "    </tr>\n",
       "  </thead>\n",
       "  <tbody>\n",
       "    <tr>\n",
       "      <th>0</th>\n",
       "      <td>Draw</td>\n",
       "      <td>9700</td>\n",
       "    </tr>\n",
       "    <tr>\n",
       "      <th>1</th>\n",
       "      <td>Brazil</td>\n",
       "      <td>629</td>\n",
       "    </tr>\n",
       "    <tr>\n",
       "      <th>2</th>\n",
       "      <td>England</td>\n",
       "      <td>580</td>\n",
       "    </tr>\n",
       "    <tr>\n",
       "      <th>3</th>\n",
       "      <td>Germany</td>\n",
       "      <td>560</td>\n",
       "    </tr>\n",
       "    <tr>\n",
       "      <th>4</th>\n",
       "      <td>Argentina</td>\n",
       "      <td>529</td>\n",
       "    </tr>\n",
       "    <tr>\n",
       "      <th>...</th>\n",
       "      <td>...</td>\n",
       "      <td>...</td>\n",
       "    </tr>\n",
       "    <tr>\n",
       "      <th>296</th>\n",
       "      <td>Raetia</td>\n",
       "      <td>1</td>\n",
       "    </tr>\n",
       "    <tr>\n",
       "      <th>297</th>\n",
       "      <td>Republic of St. Pauli</td>\n",
       "      <td>1</td>\n",
       "    </tr>\n",
       "    <tr>\n",
       "      <th>298</th>\n",
       "      <td>Asturias</td>\n",
       "      <td>1</td>\n",
       "    </tr>\n",
       "    <tr>\n",
       "      <th>299</th>\n",
       "      <td>Timor-Leste</td>\n",
       "      <td>1</td>\n",
       "    </tr>\n",
       "    <tr>\n",
       "      <th>300</th>\n",
       "      <td>Saarland</td>\n",
       "      <td>1</td>\n",
       "    </tr>\n",
       "  </tbody>\n",
       "</table>\n",
       "<p>301 rows × 2 columns</p>\n",
       "</div>"
      ],
      "text/plain": [
       "                      Team  Wins\n",
       "0                     Draw  9700\n",
       "1                   Brazil   629\n",
       "2                  England   580\n",
       "3                  Germany   560\n",
       "4                Argentina   529\n",
       "..                     ...   ...\n",
       "296                 Raetia     1\n",
       "297  Republic of St. Pauli     1\n",
       "298               Asturias     1\n",
       "299            Timor-Leste     1\n",
       "300               Saarland     1\n",
       "\n",
       "[301 rows x 2 columns]"
      ]
     },
     "execution_count": 13,
     "metadata": {},
     "output_type": "execute_result"
    }
   ],
   "source": [
    "win_count = df['winner'].value_counts().reset_index()\n",
    "win_count.columns = ['Team','Wins']\n",
    "win_count"
   ]
  },
  {
   "cell_type": "code",
   "execution_count": 14,
   "id": "renewable-problem",
   "metadata": {
    "scrolled": true
   },
   "outputs": [
    {
     "data": {
      "text/html": [
       "<div>\n",
       "<style scoped>\n",
       "    .dataframe tbody tr th:only-of-type {\n",
       "        vertical-align: middle;\n",
       "    }\n",
       "\n",
       "    .dataframe tbody tr th {\n",
       "        vertical-align: top;\n",
       "    }\n",
       "\n",
       "    .dataframe thead th {\n",
       "        text-align: right;\n",
       "    }\n",
       "</style>\n",
       "<table border=\"1\" class=\"dataframe\">\n",
       "  <thead>\n",
       "    <tr style=\"text-align: right;\">\n",
       "      <th></th>\n",
       "      <th>Team</th>\n",
       "      <th>Wins</th>\n",
       "    </tr>\n",
       "  </thead>\n",
       "  <tbody>\n",
       "    <tr>\n",
       "      <th>1</th>\n",
       "      <td>Brazil</td>\n",
       "      <td>629</td>\n",
       "    </tr>\n",
       "    <tr>\n",
       "      <th>2</th>\n",
       "      <td>England</td>\n",
       "      <td>580</td>\n",
       "    </tr>\n",
       "    <tr>\n",
       "      <th>3</th>\n",
       "      <td>Germany</td>\n",
       "      <td>560</td>\n",
       "    </tr>\n",
       "    <tr>\n",
       "      <th>4</th>\n",
       "      <td>Argentina</td>\n",
       "      <td>529</td>\n",
       "    </tr>\n",
       "    <tr>\n",
       "      <th>5</th>\n",
       "      <td>Sweden</td>\n",
       "      <td>506</td>\n",
       "    </tr>\n",
       "    <tr>\n",
       "      <th>6</th>\n",
       "      <td>South Korea</td>\n",
       "      <td>455</td>\n",
       "    </tr>\n",
       "    <tr>\n",
       "      <th>7</th>\n",
       "      <td>Mexico</td>\n",
       "      <td>444</td>\n",
       "    </tr>\n",
       "    <tr>\n",
       "      <th>8</th>\n",
       "      <td>Hungary</td>\n",
       "      <td>442</td>\n",
       "    </tr>\n",
       "    <tr>\n",
       "      <th>9</th>\n",
       "      <td>Italy</td>\n",
       "      <td>431</td>\n",
       "    </tr>\n",
       "    <tr>\n",
       "      <th>10</th>\n",
       "      <td>France</td>\n",
       "      <td>425</td>\n",
       "    </tr>\n",
       "  </tbody>\n",
       "</table>\n",
       "</div>"
      ],
      "text/plain": [
       "           Team  Wins\n",
       "1        Brazil   629\n",
       "2       England   580\n",
       "3       Germany   560\n",
       "4     Argentina   529\n",
       "5        Sweden   506\n",
       "6   South Korea   455\n",
       "7        Mexico   444\n",
       "8       Hungary   442\n",
       "9         Italy   431\n",
       "10       France   425"
      ]
     },
     "execution_count": 14,
     "metadata": {},
     "output_type": "execute_result"
    }
   ],
   "source": [
    "win_count[1:11]"
   ]
  },
  {
   "cell_type": "markdown",
   "id": "resistant-bones",
   "metadata": {},
   "source": [
    "The top spots go to traditional footballing powerhouses like **Brazil**, **England**, **Germany** and **Argentina**. The surprises here are **Sweden**, **Hungary** and **South Korea**.  \n",
    "  \n",
    "South Korea might be raking up wins as the top team in the comparitively weaker Asia region. Same can be presumed for Mexico, who are the dominant team in CONCAFAF(North and Central America). Hungary were once a top European team, but have fallen off in recent years. Sweden is an outlier here though.  \n",
    "  \n",
    "One issue with taking wins as the measure of a team's success is the fact that it favours the teams who have played the most matches, which will usually be the early adopters of the games. A better measure will be the **Winning %**."
   ]
  },
  {
   "cell_type": "markdown",
   "id": "certain-wales",
   "metadata": {},
   "source": [
    "## Adding Total Matches ,Wins and Win % columns"
   ]
  },
  {
   "cell_type": "code",
   "execution_count": 15,
   "id": "perfect-bahrain",
   "metadata": {},
   "outputs": [
    {
     "data": {
      "text/html": [
       "<div>\n",
       "<style scoped>\n",
       "    .dataframe tbody tr th:only-of-type {\n",
       "        vertical-align: middle;\n",
       "    }\n",
       "\n",
       "    .dataframe tbody tr th {\n",
       "        vertical-align: top;\n",
       "    }\n",
       "\n",
       "    .dataframe thead th {\n",
       "        text-align: right;\n",
       "    }\n",
       "</style>\n",
       "<table border=\"1\" class=\"dataframe\">\n",
       "  <thead>\n",
       "    <tr style=\"text-align: right;\">\n",
       "      <th></th>\n",
       "      <th>Team</th>\n",
       "      <th>Total Matches</th>\n",
       "    </tr>\n",
       "  </thead>\n",
       "  <tbody>\n",
       "    <tr>\n",
       "      <th>0</th>\n",
       "      <td>Sweden</td>\n",
       "      <td>1030</td>\n",
       "    </tr>\n",
       "    <tr>\n",
       "      <th>1</th>\n",
       "      <td>England</td>\n",
       "      <td>1020</td>\n",
       "    </tr>\n",
       "    <tr>\n",
       "      <th>2</th>\n",
       "      <td>Brazil</td>\n",
       "      <td>985</td>\n",
       "    </tr>\n",
       "    <tr>\n",
       "      <th>3</th>\n",
       "      <td>Argentina</td>\n",
       "      <td>984</td>\n",
       "    </tr>\n",
       "    <tr>\n",
       "      <th>4</th>\n",
       "      <td>Germany</td>\n",
       "      <td>961</td>\n",
       "    </tr>\n",
       "    <tr>\n",
       "      <th>...</th>\n",
       "      <td>...</td>\n",
       "      <td>...</td>\n",
       "    </tr>\n",
       "    <tr>\n",
       "      <th>307</th>\n",
       "      <td>Palau</td>\n",
       "      <td>2</td>\n",
       "    </tr>\n",
       "    <tr>\n",
       "      <th>308</th>\n",
       "      <td>Niue</td>\n",
       "      <td>2</td>\n",
       "    </tr>\n",
       "    <tr>\n",
       "      <th>309</th>\n",
       "      <td>Madrid</td>\n",
       "      <td>1</td>\n",
       "    </tr>\n",
       "    <tr>\n",
       "      <th>310</th>\n",
       "      <td>Asturias</td>\n",
       "      <td>1</td>\n",
       "    </tr>\n",
       "    <tr>\n",
       "      <th>311</th>\n",
       "      <td>Surrey</td>\n",
       "      <td>1</td>\n",
       "    </tr>\n",
       "  </tbody>\n",
       "</table>\n",
       "<p>312 rows × 2 columns</p>\n",
       "</div>"
      ],
      "text/plain": [
       "          Team  Total Matches\n",
       "0       Sweden           1030\n",
       "1      England           1020\n",
       "2       Brazil            985\n",
       "3    Argentina            984\n",
       "4      Germany            961\n",
       "..         ...            ...\n",
       "307      Palau              2\n",
       "308       Niue              2\n",
       "309     Madrid              1\n",
       "310   Asturias              1\n",
       "311     Surrey              1\n",
       "\n",
       "[312 rows x 2 columns]"
      ]
     },
     "execution_count": 15,
     "metadata": {},
     "output_type": "execute_result"
    }
   ],
   "source": [
    "matches_played = pd.concat([df['home_team'],df['away_team']])\n",
    "matches_played=matches_played.value_counts().reset_index()\n",
    "matches_played.columns=['Team','Total Matches']\n",
    "matches_played"
   ]
  },
  {
   "cell_type": "code",
   "execution_count": 16,
   "id": "permanent-leeds",
   "metadata": {},
   "outputs": [
    {
     "data": {
      "text/html": [
       "<div>\n",
       "<style scoped>\n",
       "    .dataframe tbody tr th:only-of-type {\n",
       "        vertical-align: middle;\n",
       "    }\n",
       "\n",
       "    .dataframe tbody tr th {\n",
       "        vertical-align: top;\n",
       "    }\n",
       "\n",
       "    .dataframe thead th {\n",
       "        text-align: right;\n",
       "    }\n",
       "</style>\n",
       "<table border=\"1\" class=\"dataframe\">\n",
       "  <thead>\n",
       "    <tr style=\"text-align: right;\">\n",
       "      <th></th>\n",
       "      <th>Team</th>\n",
       "      <th>Total Matches</th>\n",
       "    </tr>\n",
       "  </thead>\n",
       "  <tbody>\n",
       "    <tr>\n",
       "      <th>0</th>\n",
       "      <td>Sweden</td>\n",
       "      <td>1030</td>\n",
       "    </tr>\n",
       "    <tr>\n",
       "      <th>1</th>\n",
       "      <td>England</td>\n",
       "      <td>1020</td>\n",
       "    </tr>\n",
       "    <tr>\n",
       "      <th>2</th>\n",
       "      <td>Brazil</td>\n",
       "      <td>985</td>\n",
       "    </tr>\n",
       "    <tr>\n",
       "      <th>3</th>\n",
       "      <td>Argentina</td>\n",
       "      <td>984</td>\n",
       "    </tr>\n",
       "    <tr>\n",
       "      <th>4</th>\n",
       "      <td>Germany</td>\n",
       "      <td>961</td>\n",
       "    </tr>\n",
       "    <tr>\n",
       "      <th>5</th>\n",
       "      <td>Hungary</td>\n",
       "      <td>943</td>\n",
       "    </tr>\n",
       "    <tr>\n",
       "      <th>6</th>\n",
       "      <td>Uruguay</td>\n",
       "      <td>889</td>\n",
       "    </tr>\n",
       "    <tr>\n",
       "      <th>7</th>\n",
       "      <td>Mexico</td>\n",
       "      <td>876</td>\n",
       "    </tr>\n",
       "    <tr>\n",
       "      <th>8</th>\n",
       "      <td>South Korea</td>\n",
       "      <td>865</td>\n",
       "    </tr>\n",
       "    <tr>\n",
       "      <th>9</th>\n",
       "      <td>France</td>\n",
       "      <td>851</td>\n",
       "    </tr>\n",
       "  </tbody>\n",
       "</table>\n",
       "</div>"
      ],
      "text/plain": [
       "          Team  Total Matches\n",
       "0       Sweden           1030\n",
       "1      England           1020\n",
       "2       Brazil            985\n",
       "3    Argentina            984\n",
       "4      Germany            961\n",
       "5      Hungary            943\n",
       "6      Uruguay            889\n",
       "7       Mexico            876\n",
       "8  South Korea            865\n",
       "9       France            851"
      ]
     },
     "execution_count": 16,
     "metadata": {},
     "output_type": "execute_result"
    }
   ],
   "source": [
    "matches_played.head(10)"
   ]
  },
  {
   "cell_type": "code",
   "execution_count": 17,
   "id": "extreme-cover",
   "metadata": {},
   "outputs": [],
   "source": [
    "def wins_column(row):\n",
    "    try:\n",
    "        return int(win_count.loc[win_count.Team == row['Team']].Wins)\n",
    "    except:\n",
    "        return 0"
   ]
  },
  {
   "cell_type": "code",
   "execution_count": 18,
   "id": "pending-federation",
   "metadata": {},
   "outputs": [],
   "source": [
    "matches_played['Wins'] = matches_played.apply(lambda row : wins_column(row), axis = 1)"
   ]
  },
  {
   "cell_type": "code",
   "execution_count": 19,
   "id": "mounted-lindsay",
   "metadata": {},
   "outputs": [
    {
     "data": {
      "text/html": [
       "<div>\n",
       "<style scoped>\n",
       "    .dataframe tbody tr th:only-of-type {\n",
       "        vertical-align: middle;\n",
       "    }\n",
       "\n",
       "    .dataframe tbody tr th {\n",
       "        vertical-align: top;\n",
       "    }\n",
       "\n",
       "    .dataframe thead th {\n",
       "        text-align: right;\n",
       "    }\n",
       "</style>\n",
       "<table border=\"1\" class=\"dataframe\">\n",
       "  <thead>\n",
       "    <tr style=\"text-align: right;\">\n",
       "      <th></th>\n",
       "      <th>Team</th>\n",
       "      <th>Total Matches</th>\n",
       "      <th>Wins</th>\n",
       "    </tr>\n",
       "  </thead>\n",
       "  <tbody>\n",
       "    <tr>\n",
       "      <th>0</th>\n",
       "      <td>Sweden</td>\n",
       "      <td>1030</td>\n",
       "      <td>506</td>\n",
       "    </tr>\n",
       "    <tr>\n",
       "      <th>1</th>\n",
       "      <td>England</td>\n",
       "      <td>1020</td>\n",
       "      <td>580</td>\n",
       "    </tr>\n",
       "    <tr>\n",
       "      <th>2</th>\n",
       "      <td>Brazil</td>\n",
       "      <td>985</td>\n",
       "      <td>629</td>\n",
       "    </tr>\n",
       "    <tr>\n",
       "      <th>3</th>\n",
       "      <td>Argentina</td>\n",
       "      <td>984</td>\n",
       "      <td>529</td>\n",
       "    </tr>\n",
       "    <tr>\n",
       "      <th>4</th>\n",
       "      <td>Germany</td>\n",
       "      <td>961</td>\n",
       "      <td>560</td>\n",
       "    </tr>\n",
       "    <tr>\n",
       "      <th>...</th>\n",
       "      <td>...</td>\n",
       "      <td>...</td>\n",
       "      <td>...</td>\n",
       "    </tr>\n",
       "    <tr>\n",
       "      <th>307</th>\n",
       "      <td>Palau</td>\n",
       "      <td>2</td>\n",
       "      <td>0</td>\n",
       "    </tr>\n",
       "    <tr>\n",
       "      <th>308</th>\n",
       "      <td>Niue</td>\n",
       "      <td>2</td>\n",
       "      <td>0</td>\n",
       "    </tr>\n",
       "    <tr>\n",
       "      <th>309</th>\n",
       "      <td>Madrid</td>\n",
       "      <td>1</td>\n",
       "      <td>0</td>\n",
       "    </tr>\n",
       "    <tr>\n",
       "      <th>310</th>\n",
       "      <td>Asturias</td>\n",
       "      <td>1</td>\n",
       "      <td>1</td>\n",
       "    </tr>\n",
       "    <tr>\n",
       "      <th>311</th>\n",
       "      <td>Surrey</td>\n",
       "      <td>1</td>\n",
       "      <td>1</td>\n",
       "    </tr>\n",
       "  </tbody>\n",
       "</table>\n",
       "<p>312 rows × 3 columns</p>\n",
       "</div>"
      ],
      "text/plain": [
       "          Team  Total Matches  Wins\n",
       "0       Sweden           1030   506\n",
       "1      England           1020   580\n",
       "2       Brazil            985   629\n",
       "3    Argentina            984   529\n",
       "4      Germany            961   560\n",
       "..         ...            ...   ...\n",
       "307      Palau              2     0\n",
       "308       Niue              2     0\n",
       "309     Madrid              1     0\n",
       "310   Asturias              1     1\n",
       "311     Surrey              1     1\n",
       "\n",
       "[312 rows x 3 columns]"
      ]
     },
     "execution_count": 19,
     "metadata": {},
     "output_type": "execute_result"
    }
   ],
   "source": [
    "matches_played"
   ]
  },
  {
   "cell_type": "code",
   "execution_count": 20,
   "id": "champion-jewel",
   "metadata": {},
   "outputs": [],
   "source": [
    "matches_played['Win %'] = round(matches_played['Wins']/matches_played['Total Matches'],4) * 100"
   ]
  },
  {
   "cell_type": "code",
   "execution_count": 21,
   "id": "animal-province",
   "metadata": {
    "scrolled": false
   },
   "outputs": [
    {
     "data": {
      "text/html": [
       "<div>\n",
       "<style scoped>\n",
       "    .dataframe tbody tr th:only-of-type {\n",
       "        vertical-align: middle;\n",
       "    }\n",
       "\n",
       "    .dataframe tbody tr th {\n",
       "        vertical-align: top;\n",
       "    }\n",
       "\n",
       "    .dataframe thead th {\n",
       "        text-align: right;\n",
       "    }\n",
       "</style>\n",
       "<table border=\"1\" class=\"dataframe\">\n",
       "  <thead>\n",
       "    <tr style=\"text-align: right;\">\n",
       "      <th></th>\n",
       "      <th>Team</th>\n",
       "      <th>Total Matches</th>\n",
       "      <th>Wins</th>\n",
       "      <th>Win %</th>\n",
       "    </tr>\n",
       "  </thead>\n",
       "  <tbody>\n",
       "    <tr>\n",
       "      <th>0</th>\n",
       "      <td>Sweden</td>\n",
       "      <td>1030</td>\n",
       "      <td>506</td>\n",
       "      <td>49.13</td>\n",
       "    </tr>\n",
       "    <tr>\n",
       "      <th>1</th>\n",
       "      <td>England</td>\n",
       "      <td>1020</td>\n",
       "      <td>580</td>\n",
       "      <td>56.86</td>\n",
       "    </tr>\n",
       "    <tr>\n",
       "      <th>2</th>\n",
       "      <td>Brazil</td>\n",
       "      <td>985</td>\n",
       "      <td>629</td>\n",
       "      <td>63.86</td>\n",
       "    </tr>\n",
       "    <tr>\n",
       "      <th>3</th>\n",
       "      <td>Argentina</td>\n",
       "      <td>984</td>\n",
       "      <td>529</td>\n",
       "      <td>53.76</td>\n",
       "    </tr>\n",
       "    <tr>\n",
       "      <th>4</th>\n",
       "      <td>Germany</td>\n",
       "      <td>961</td>\n",
       "      <td>560</td>\n",
       "      <td>58.27</td>\n",
       "    </tr>\n",
       "    <tr>\n",
       "      <th>...</th>\n",
       "      <td>...</td>\n",
       "      <td>...</td>\n",
       "      <td>...</td>\n",
       "      <td>...</td>\n",
       "    </tr>\n",
       "    <tr>\n",
       "      <th>307</th>\n",
       "      <td>Palau</td>\n",
       "      <td>2</td>\n",
       "      <td>0</td>\n",
       "      <td>0.00</td>\n",
       "    </tr>\n",
       "    <tr>\n",
       "      <th>308</th>\n",
       "      <td>Niue</td>\n",
       "      <td>2</td>\n",
       "      <td>0</td>\n",
       "      <td>0.00</td>\n",
       "    </tr>\n",
       "    <tr>\n",
       "      <th>309</th>\n",
       "      <td>Madrid</td>\n",
       "      <td>1</td>\n",
       "      <td>0</td>\n",
       "      <td>0.00</td>\n",
       "    </tr>\n",
       "    <tr>\n",
       "      <th>310</th>\n",
       "      <td>Asturias</td>\n",
       "      <td>1</td>\n",
       "      <td>1</td>\n",
       "      <td>100.00</td>\n",
       "    </tr>\n",
       "    <tr>\n",
       "      <th>311</th>\n",
       "      <td>Surrey</td>\n",
       "      <td>1</td>\n",
       "      <td>1</td>\n",
       "      <td>100.00</td>\n",
       "    </tr>\n",
       "  </tbody>\n",
       "</table>\n",
       "<p>312 rows × 4 columns</p>\n",
       "</div>"
      ],
      "text/plain": [
       "          Team  Total Matches  Wins   Win %\n",
       "0       Sweden           1030   506   49.13\n",
       "1      England           1020   580   56.86\n",
       "2       Brazil            985   629   63.86\n",
       "3    Argentina            984   529   53.76\n",
       "4      Germany            961   560   58.27\n",
       "..         ...            ...   ...     ...\n",
       "307      Palau              2     0    0.00\n",
       "308       Niue              2     0    0.00\n",
       "309     Madrid              1     0    0.00\n",
       "310   Asturias              1     1  100.00\n",
       "311     Surrey              1     1  100.00\n",
       "\n",
       "[312 rows x 4 columns]"
      ]
     },
     "execution_count": 21,
     "metadata": {},
     "output_type": "execute_result"
    }
   ],
   "source": [
    "matches_played"
   ]
  },
  {
   "cell_type": "markdown",
   "id": "round-jurisdiction",
   "metadata": {},
   "source": [
    "While judging teams based on their **Winning %**, we must put a lower limit on the number of games played (to avoid scenarios where a team who has played only a couple of games can have a 100% record). Here, we take the cut-off as 100 games."
   ]
  },
  {
   "cell_type": "markdown",
   "id": "inclusive-albania",
   "metadata": {},
   "source": [
    "## Teams in increasing order of Win % (minimum 100 games)"
   ]
  },
  {
   "cell_type": "code",
   "execution_count": 22,
   "id": "competitive-religion",
   "metadata": {},
   "outputs": [],
   "source": [
    "best_win_percentage = matches_played.loc[matches_played['Total Matches'] > 99].sort_values('Win %',ascending = False)"
   ]
  },
  {
   "cell_type": "code",
   "execution_count": 23,
   "id": "connected-lawrence",
   "metadata": {},
   "outputs": [],
   "source": [
    "best_win_percentage.reset_index(drop = True,inplace =True)"
   ]
  },
  {
   "cell_type": "code",
   "execution_count": 24,
   "id": "fantastic-vampire",
   "metadata": {},
   "outputs": [
    {
     "data": {
      "text/html": [
       "<div>\n",
       "<style scoped>\n",
       "    .dataframe tbody tr th:only-of-type {\n",
       "        vertical-align: middle;\n",
       "    }\n",
       "\n",
       "    .dataframe tbody tr th {\n",
       "        vertical-align: top;\n",
       "    }\n",
       "\n",
       "    .dataframe thead th {\n",
       "        text-align: right;\n",
       "    }\n",
       "</style>\n",
       "<table border=\"1\" class=\"dataframe\">\n",
       "  <thead>\n",
       "    <tr style=\"text-align: right;\">\n",
       "      <th></th>\n",
       "      <th>Team</th>\n",
       "      <th>Total Matches</th>\n",
       "      <th>Wins</th>\n",
       "      <th>Win %</th>\n",
       "    </tr>\n",
       "  </thead>\n",
       "  <tbody>\n",
       "    <tr>\n",
       "      <th>0</th>\n",
       "      <td>Brazil</td>\n",
       "      <td>985</td>\n",
       "      <td>629</td>\n",
       "      <td>63.86</td>\n",
       "    </tr>\n",
       "    <tr>\n",
       "      <th>1</th>\n",
       "      <td>Spain</td>\n",
       "      <td>705</td>\n",
       "      <td>411</td>\n",
       "      <td>58.30</td>\n",
       "    </tr>\n",
       "    <tr>\n",
       "      <th>2</th>\n",
       "      <td>Germany</td>\n",
       "      <td>961</td>\n",
       "      <td>560</td>\n",
       "      <td>58.27</td>\n",
       "    </tr>\n",
       "    <tr>\n",
       "      <th>3</th>\n",
       "      <td>England</td>\n",
       "      <td>1020</td>\n",
       "      <td>580</td>\n",
       "      <td>56.86</td>\n",
       "    </tr>\n",
       "    <tr>\n",
       "      <th>4</th>\n",
       "      <td>Iran</td>\n",
       "      <td>502</td>\n",
       "      <td>275</td>\n",
       "      <td>54.78</td>\n",
       "    </tr>\n",
       "    <tr>\n",
       "      <th>5</th>\n",
       "      <td>Czech Republic</td>\n",
       "      <td>308</td>\n",
       "      <td>166</td>\n",
       "      <td>53.90</td>\n",
       "    </tr>\n",
       "    <tr>\n",
       "      <th>6</th>\n",
       "      <td>Argentina</td>\n",
       "      <td>984</td>\n",
       "      <td>529</td>\n",
       "      <td>53.76</td>\n",
       "    </tr>\n",
       "    <tr>\n",
       "      <th>7</th>\n",
       "      <td>Italy</td>\n",
       "      <td>812</td>\n",
       "      <td>431</td>\n",
       "      <td>53.08</td>\n",
       "    </tr>\n",
       "    <tr>\n",
       "      <th>8</th>\n",
       "      <td>Croatia</td>\n",
       "      <td>329</td>\n",
       "      <td>174</td>\n",
       "      <td>52.89</td>\n",
       "    </tr>\n",
       "    <tr>\n",
       "      <th>9</th>\n",
       "      <td>New Caledonia</td>\n",
       "      <td>227</td>\n",
       "      <td>120</td>\n",
       "      <td>52.86</td>\n",
       "    </tr>\n",
       "  </tbody>\n",
       "</table>\n",
       "</div>"
      ],
      "text/plain": [
       "             Team  Total Matches  Wins  Win %\n",
       "0          Brazil            985   629  63.86\n",
       "1           Spain            705   411  58.30\n",
       "2         Germany            961   560  58.27\n",
       "3         England           1020   580  56.86\n",
       "4            Iran            502   275  54.78\n",
       "5  Czech Republic            308   166  53.90\n",
       "6       Argentina            984   529  53.76\n",
       "7           Italy            812   431  53.08\n",
       "8         Croatia            329   174  52.89\n",
       "9   New Caledonia            227   120  52.86"
      ]
     },
     "execution_count": 24,
     "metadata": {},
     "output_type": "execute_result"
    }
   ],
   "source": [
    "best_win_percentage[:10]"
   ]
  },
  {
   "cell_type": "markdown",
   "id": "architectural-chorus",
   "metadata": {},
   "source": [
    "Now we get a more clearer picture of the best performing teams. Here too, there are a few surprises. **Iran** isn't one of the best teams internationally, but being one of the top Asian teams means that they win quite a few games played in that region. **Czech Republic** and **Croatia** are two teams which aren't necessarily considered as amongst the very best, but are quite successful and are considered a tricky opposition.  \n",
    "  \n",
    "**New Caledonia** is easily the biggest surprise. An unheard-of team with a [FIFA Ranking](https://www.fifa.com/fifa-world-ranking/associations/association/ncl/men/) as low as 157, how did they make it here?  \n",
    "  \n",
    "According to [Wikipedia](https://en.wikipedia.org/wiki/New_Caledonia), \"New Caledonia is a special collectivity of France in the southwest Pacific Ocean, south of Vanuatu, about 1,210 km (750 mi) east of Australia and 17,000 km (11,000 mi) from Metropolitan France.\"  \n",
    "  \n",
    "They are a tiny French Overseas Territory which has played a majority of its games against even smaller teams from Oceania. The lack of quality opposition seems to have highly inflated their winning rate. But as winning % assumes every opposition as equal, New Caledonia deserve their place in the top 10, I guess...  \n",
    "  \n",
    "[Wikipedia link to North Caledonia Men's National Team](https://en.wikipedia.org/wiki/New_Caledonia_national_football_team)"
   ]
  },
  {
   "cell_type": "markdown",
   "id": "exact-encyclopedia",
   "metadata": {},
   "source": [
    "## Adding Total Goals Scored, and Goals Per Game"
   ]
  },
  {
   "cell_type": "code",
   "execution_count": 25,
   "id": "greater-senate",
   "metadata": {},
   "outputs": [],
   "source": [
    "def total_goals_scored(row):\n",
    "    return int(df[df['home_team'] == row['Team']]['home_score'].sum()) + int(df[df['away_team'] == row['Team']]['away_score'].sum())"
   ]
  },
  {
   "cell_type": "code",
   "execution_count": 26,
   "id": "impaired-relative",
   "metadata": {},
   "outputs": [],
   "source": [
    "best_win_percentage['Goals scored'] = best_win_percentage.apply(lambda row : total_goals_scored(row), axis = 1)\n",
    "best_win_percentage['Goals per match'] = round((best_win_percentage['Goals scored']/best_win_percentage['Total Matches']),2)"
   ]
  },
  {
   "cell_type": "code",
   "execution_count": 27,
   "id": "aging-commissioner",
   "metadata": {
    "scrolled": true
   },
   "outputs": [
    {
     "data": {
      "text/html": [
       "<div>\n",
       "<style scoped>\n",
       "    .dataframe tbody tr th:only-of-type {\n",
       "        vertical-align: middle;\n",
       "    }\n",
       "\n",
       "    .dataframe tbody tr th {\n",
       "        vertical-align: top;\n",
       "    }\n",
       "\n",
       "    .dataframe thead th {\n",
       "        text-align: right;\n",
       "    }\n",
       "</style>\n",
       "<table border=\"1\" class=\"dataframe\">\n",
       "  <thead>\n",
       "    <tr style=\"text-align: right;\">\n",
       "      <th></th>\n",
       "      <th>Team</th>\n",
       "      <th>Total Matches</th>\n",
       "      <th>Wins</th>\n",
       "      <th>Win %</th>\n",
       "      <th>Goals scored</th>\n",
       "      <th>Goals per match</th>\n",
       "    </tr>\n",
       "  </thead>\n",
       "  <tbody>\n",
       "    <tr>\n",
       "      <th>0</th>\n",
       "      <td>Brazil</td>\n",
       "      <td>985</td>\n",
       "      <td>629</td>\n",
       "      <td>63.86</td>\n",
       "      <td>2161</td>\n",
       "      <td>2.19</td>\n",
       "    </tr>\n",
       "    <tr>\n",
       "      <th>1</th>\n",
       "      <td>Spain</td>\n",
       "      <td>705</td>\n",
       "      <td>411</td>\n",
       "      <td>58.30</td>\n",
       "      <td>1420</td>\n",
       "      <td>2.01</td>\n",
       "    </tr>\n",
       "    <tr>\n",
       "      <th>2</th>\n",
       "      <td>Germany</td>\n",
       "      <td>961</td>\n",
       "      <td>560</td>\n",
       "      <td>58.27</td>\n",
       "      <td>2144</td>\n",
       "      <td>2.23</td>\n",
       "    </tr>\n",
       "    <tr>\n",
       "      <th>3</th>\n",
       "      <td>England</td>\n",
       "      <td>1020</td>\n",
       "      <td>580</td>\n",
       "      <td>56.86</td>\n",
       "      <td>2230</td>\n",
       "      <td>2.19</td>\n",
       "    </tr>\n",
       "    <tr>\n",
       "      <th>4</th>\n",
       "      <td>Iran</td>\n",
       "      <td>502</td>\n",
       "      <td>275</td>\n",
       "      <td>54.78</td>\n",
       "      <td>932</td>\n",
       "      <td>1.86</td>\n",
       "    </tr>\n",
       "    <tr>\n",
       "      <th>...</th>\n",
       "      <td>...</td>\n",
       "      <td>...</td>\n",
       "      <td>...</td>\n",
       "      <td>...</td>\n",
       "      <td>...</td>\n",
       "      <td>...</td>\n",
       "    </tr>\n",
       "    <tr>\n",
       "      <th>190</th>\n",
       "      <td>Somalia</td>\n",
       "      <td>107</td>\n",
       "      <td>10</td>\n",
       "      <td>9.35</td>\n",
       "      <td>56</td>\n",
       "      <td>0.52</td>\n",
       "    </tr>\n",
       "    <tr>\n",
       "      <th>191</th>\n",
       "      <td>Luxembourg</td>\n",
       "      <td>413</td>\n",
       "      <td>38</td>\n",
       "      <td>9.20</td>\n",
       "      <td>254</td>\n",
       "      <td>0.62</td>\n",
       "    </tr>\n",
       "    <tr>\n",
       "      <th>192</th>\n",
       "      <td>Liechtenstein</td>\n",
       "      <td>207</td>\n",
       "      <td>17</td>\n",
       "      <td>8.21</td>\n",
       "      <td>93</td>\n",
       "      <td>0.45</td>\n",
       "    </tr>\n",
       "    <tr>\n",
       "      <th>193</th>\n",
       "      <td>Andorra</td>\n",
       "      <td>175</td>\n",
       "      <td>6</td>\n",
       "      <td>3.43</td>\n",
       "      <td>48</td>\n",
       "      <td>0.27</td>\n",
       "    </tr>\n",
       "    <tr>\n",
       "      <th>194</th>\n",
       "      <td>San Marino</td>\n",
       "      <td>172</td>\n",
       "      <td>1</td>\n",
       "      <td>0.58</td>\n",
       "      <td>24</td>\n",
       "      <td>0.14</td>\n",
       "    </tr>\n",
       "  </tbody>\n",
       "</table>\n",
       "<p>195 rows × 6 columns</p>\n",
       "</div>"
      ],
      "text/plain": [
       "              Team  Total Matches  Wins  Win %  Goals scored  Goals per match\n",
       "0           Brazil            985   629  63.86          2161             2.19\n",
       "1            Spain            705   411  58.30          1420             2.01\n",
       "2          Germany            961   560  58.27          2144             2.23\n",
       "3          England           1020   580  56.86          2230             2.19\n",
       "4             Iran            502   275  54.78           932             1.86\n",
       "..             ...            ...   ...    ...           ...              ...\n",
       "190        Somalia            107    10   9.35            56             0.52\n",
       "191     Luxembourg            413    38   9.20           254             0.62\n",
       "192  Liechtenstein            207    17   8.21            93             0.45\n",
       "193        Andorra            175     6   3.43            48             0.27\n",
       "194     San Marino            172     1   0.58            24             0.14\n",
       "\n",
       "[195 rows x 6 columns]"
      ]
     },
     "execution_count": 27,
     "metadata": {},
     "output_type": "execute_result"
    }
   ],
   "source": [
    "best_win_percentage"
   ]
  },
  {
   "cell_type": "code",
   "execution_count": 28,
   "id": "australian-valentine",
   "metadata": {
    "scrolled": false
   },
   "outputs": [
    {
     "data": {
      "text/html": [
       "<div>\n",
       "<style scoped>\n",
       "    .dataframe tbody tr th:only-of-type {\n",
       "        vertical-align: middle;\n",
       "    }\n",
       "\n",
       "    .dataframe tbody tr th {\n",
       "        vertical-align: top;\n",
       "    }\n",
       "\n",
       "    .dataframe thead th {\n",
       "        text-align: right;\n",
       "    }\n",
       "</style>\n",
       "<table border=\"1\" class=\"dataframe\">\n",
       "  <thead>\n",
       "    <tr style=\"text-align: right;\">\n",
       "      <th></th>\n",
       "      <th>Team</th>\n",
       "      <th>Total Matches</th>\n",
       "      <th>Wins</th>\n",
       "      <th>Win %</th>\n",
       "      <th>Goals scored</th>\n",
       "      <th>Goals per match</th>\n",
       "    </tr>\n",
       "  </thead>\n",
       "  <tbody>\n",
       "    <tr>\n",
       "      <th>0</th>\n",
       "      <td>New Caledonia</td>\n",
       "      <td>227</td>\n",
       "      <td>120</td>\n",
       "      <td>52.86</td>\n",
       "      <td>614</td>\n",
       "      <td>2.70</td>\n",
       "    </tr>\n",
       "    <tr>\n",
       "      <th>1</th>\n",
       "      <td>Tahiti</td>\n",
       "      <td>210</td>\n",
       "      <td>109</td>\n",
       "      <td>51.90</td>\n",
       "      <td>564</td>\n",
       "      <td>2.69</td>\n",
       "    </tr>\n",
       "    <tr>\n",
       "      <th>2</th>\n",
       "      <td>Papua New Guinea</td>\n",
       "      <td>116</td>\n",
       "      <td>35</td>\n",
       "      <td>30.17</td>\n",
       "      <td>280</td>\n",
       "      <td>2.41</td>\n",
       "    </tr>\n",
       "    <tr>\n",
       "      <th>3</th>\n",
       "      <td>Fiji</td>\n",
       "      <td>221</td>\n",
       "      <td>97</td>\n",
       "      <td>43.89</td>\n",
       "      <td>523</td>\n",
       "      <td>2.37</td>\n",
       "    </tr>\n",
       "    <tr>\n",
       "      <th>4</th>\n",
       "      <td>Solomon Islands</td>\n",
       "      <td>170</td>\n",
       "      <td>72</td>\n",
       "      <td>42.35</td>\n",
       "      <td>383</td>\n",
       "      <td>2.25</td>\n",
       "    </tr>\n",
       "    <tr>\n",
       "      <th>5</th>\n",
       "      <td>Germany</td>\n",
       "      <td>961</td>\n",
       "      <td>560</td>\n",
       "      <td>58.27</td>\n",
       "      <td>2144</td>\n",
       "      <td>2.23</td>\n",
       "    </tr>\n",
       "    <tr>\n",
       "      <th>6</th>\n",
       "      <td>Brazil</td>\n",
       "      <td>985</td>\n",
       "      <td>629</td>\n",
       "      <td>63.86</td>\n",
       "      <td>2161</td>\n",
       "      <td>2.19</td>\n",
       "    </tr>\n",
       "    <tr>\n",
       "      <th>7</th>\n",
       "      <td>England</td>\n",
       "      <td>1020</td>\n",
       "      <td>580</td>\n",
       "      <td>56.86</td>\n",
       "      <td>2230</td>\n",
       "      <td>2.19</td>\n",
       "    </tr>\n",
       "    <tr>\n",
       "      <th>8</th>\n",
       "      <td>Netherlands</td>\n",
       "      <td>796</td>\n",
       "      <td>404</td>\n",
       "      <td>50.75</td>\n",
       "      <td>1640</td>\n",
       "      <td>2.06</td>\n",
       "    </tr>\n",
       "    <tr>\n",
       "      <th>9</th>\n",
       "      <td>Hungary</td>\n",
       "      <td>943</td>\n",
       "      <td>442</td>\n",
       "      <td>46.87</td>\n",
       "      <td>1920</td>\n",
       "      <td>2.04</td>\n",
       "    </tr>\n",
       "  </tbody>\n",
       "</table>\n",
       "</div>"
      ],
      "text/plain": [
       "               Team  Total Matches  Wins  Win %  Goals scored  Goals per match\n",
       "0     New Caledonia            227   120  52.86           614             2.70\n",
       "1            Tahiti            210   109  51.90           564             2.69\n",
       "2  Papua New Guinea            116    35  30.17           280             2.41\n",
       "3              Fiji            221    97  43.89           523             2.37\n",
       "4   Solomon Islands            170    72  42.35           383             2.25\n",
       "5           Germany            961   560  58.27          2144             2.23\n",
       "6            Brazil            985   629  63.86          2161             2.19\n",
       "7           England           1020   580  56.86          2230             2.19\n",
       "8       Netherlands            796   404  50.75          1640             2.06\n",
       "9           Hungary            943   442  46.87          1920             2.04"
      ]
     },
     "execution_count": 28,
     "metadata": {},
     "output_type": "execute_result"
    }
   ],
   "source": [
    "best_win_percentage.sort_values('Goals per match',ascending = False).reset_index(drop = True)[:10]"
   ]
  },
  {
   "cell_type": "code",
   "execution_count": 29,
   "id": "diagnostic-latest",
   "metadata": {},
   "outputs": [
    {
     "data": {
      "text/html": [
       "<div>\n",
       "<style scoped>\n",
       "    .dataframe tbody tr th:only-of-type {\n",
       "        vertical-align: middle;\n",
       "    }\n",
       "\n",
       "    .dataframe tbody tr th {\n",
       "        vertical-align: top;\n",
       "    }\n",
       "\n",
       "    .dataframe thead th {\n",
       "        text-align: right;\n",
       "    }\n",
       "</style>\n",
       "<table border=\"1\" class=\"dataframe\">\n",
       "  <thead>\n",
       "    <tr style=\"text-align: right;\">\n",
       "      <th></th>\n",
       "      <th>Team</th>\n",
       "      <th>Total Matches</th>\n",
       "      <th>Wins</th>\n",
       "      <th>Win %</th>\n",
       "      <th>Goals scored</th>\n",
       "      <th>Goals per match</th>\n",
       "    </tr>\n",
       "  </thead>\n",
       "  <tbody>\n",
       "    <tr>\n",
       "      <th>0</th>\n",
       "      <td>Brazil</td>\n",
       "      <td>985</td>\n",
       "      <td>629</td>\n",
       "      <td>63.86</td>\n",
       "      <td>2161</td>\n",
       "      <td>2.19</td>\n",
       "    </tr>\n",
       "    <tr>\n",
       "      <th>1</th>\n",
       "      <td>Spain</td>\n",
       "      <td>705</td>\n",
       "      <td>411</td>\n",
       "      <td>58.30</td>\n",
       "      <td>1420</td>\n",
       "      <td>2.01</td>\n",
       "    </tr>\n",
       "    <tr>\n",
       "      <th>2</th>\n",
       "      <td>Germany</td>\n",
       "      <td>961</td>\n",
       "      <td>560</td>\n",
       "      <td>58.27</td>\n",
       "      <td>2144</td>\n",
       "      <td>2.23</td>\n",
       "    </tr>\n",
       "    <tr>\n",
       "      <th>3</th>\n",
       "      <td>England</td>\n",
       "      <td>1020</td>\n",
       "      <td>580</td>\n",
       "      <td>56.86</td>\n",
       "      <td>2230</td>\n",
       "      <td>2.19</td>\n",
       "    </tr>\n",
       "    <tr>\n",
       "      <th>4</th>\n",
       "      <td>Iran</td>\n",
       "      <td>502</td>\n",
       "      <td>275</td>\n",
       "      <td>54.78</td>\n",
       "      <td>932</td>\n",
       "      <td>1.86</td>\n",
       "    </tr>\n",
       "    <tr>\n",
       "      <th>5</th>\n",
       "      <td>Czech Republic</td>\n",
       "      <td>308</td>\n",
       "      <td>166</td>\n",
       "      <td>53.90</td>\n",
       "      <td>551</td>\n",
       "      <td>1.79</td>\n",
       "    </tr>\n",
       "    <tr>\n",
       "      <th>6</th>\n",
       "      <td>Argentina</td>\n",
       "      <td>984</td>\n",
       "      <td>529</td>\n",
       "      <td>53.76</td>\n",
       "      <td>1836</td>\n",
       "      <td>1.87</td>\n",
       "    </tr>\n",
       "    <tr>\n",
       "      <th>7</th>\n",
       "      <td>Italy</td>\n",
       "      <td>812</td>\n",
       "      <td>431</td>\n",
       "      <td>53.08</td>\n",
       "      <td>1393</td>\n",
       "      <td>1.72</td>\n",
       "    </tr>\n",
       "    <tr>\n",
       "      <th>8</th>\n",
       "      <td>Croatia</td>\n",
       "      <td>329</td>\n",
       "      <td>174</td>\n",
       "      <td>52.89</td>\n",
       "      <td>573</td>\n",
       "      <td>1.74</td>\n",
       "    </tr>\n",
       "    <tr>\n",
       "      <th>9</th>\n",
       "      <td>New Caledonia</td>\n",
       "      <td>227</td>\n",
       "      <td>120</td>\n",
       "      <td>52.86</td>\n",
       "      <td>614</td>\n",
       "      <td>2.70</td>\n",
       "    </tr>\n",
       "  </tbody>\n",
       "</table>\n",
       "</div>"
      ],
      "text/plain": [
       "             Team  Total Matches  Wins  Win %  Goals scored  Goals per match\n",
       "0          Brazil            985   629  63.86          2161             2.19\n",
       "1           Spain            705   411  58.30          1420             2.01\n",
       "2         Germany            961   560  58.27          2144             2.23\n",
       "3         England           1020   580  56.86          2230             2.19\n",
       "4            Iran            502   275  54.78           932             1.86\n",
       "5  Czech Republic            308   166  53.90           551             1.79\n",
       "6       Argentina            984   529  53.76          1836             1.87\n",
       "7           Italy            812   431  53.08          1393             1.72\n",
       "8         Croatia            329   174  52.89           573             1.74\n",
       "9   New Caledonia            227   120  52.86           614             2.70"
      ]
     },
     "execution_count": 29,
     "metadata": {},
     "output_type": "execute_result"
    }
   ],
   "source": [
    "best_win_percentage.head(10)"
   ]
  },
  {
   "cell_type": "code",
   "execution_count": 30,
   "id": "employed-campbell",
   "metadata": {},
   "outputs": [
    {
     "data": {
      "text/html": [
       "<div>\n",
       "<style scoped>\n",
       "    .dataframe tbody tr th:only-of-type {\n",
       "        vertical-align: middle;\n",
       "    }\n",
       "\n",
       "    .dataframe tbody tr th {\n",
       "        vertical-align: top;\n",
       "    }\n",
       "\n",
       "    .dataframe thead th {\n",
       "        text-align: right;\n",
       "    }\n",
       "</style>\n",
       "<table border=\"1\" class=\"dataframe\">\n",
       "  <thead>\n",
       "    <tr style=\"text-align: right;\">\n",
       "      <th></th>\n",
       "      <th>Team</th>\n",
       "      <th>Total Matches</th>\n",
       "      <th>Wins</th>\n",
       "      <th>Win %</th>\n",
       "      <th>Goals scored</th>\n",
       "      <th>Goals per match</th>\n",
       "    </tr>\n",
       "  </thead>\n",
       "  <tbody>\n",
       "    <tr>\n",
       "      <th>185</th>\n",
       "      <td>Nicaragua</td>\n",
       "      <td>159</td>\n",
       "      <td>28</td>\n",
       "      <td>17.61</td>\n",
       "      <td>144</td>\n",
       "      <td>0.91</td>\n",
       "    </tr>\n",
       "    <tr>\n",
       "      <th>186</th>\n",
       "      <td>Aruba</td>\n",
       "      <td>122</td>\n",
       "      <td>21</td>\n",
       "      <td>17.21</td>\n",
       "      <td>154</td>\n",
       "      <td>1.26</td>\n",
       "    </tr>\n",
       "    <tr>\n",
       "      <th>187</th>\n",
       "      <td>Macau</td>\n",
       "      <td>128</td>\n",
       "      <td>21</td>\n",
       "      <td>16.41</td>\n",
       "      <td>107</td>\n",
       "      <td>0.84</td>\n",
       "    </tr>\n",
       "    <tr>\n",
       "      <th>188</th>\n",
       "      <td>Malta</td>\n",
       "      <td>408</td>\n",
       "      <td>51</td>\n",
       "      <td>12.50</td>\n",
       "      <td>257</td>\n",
       "      <td>0.63</td>\n",
       "    </tr>\n",
       "    <tr>\n",
       "      <th>189</th>\n",
       "      <td>Seychelles</td>\n",
       "      <td>113</td>\n",
       "      <td>13</td>\n",
       "      <td>11.50</td>\n",
       "      <td>76</td>\n",
       "      <td>0.67</td>\n",
       "    </tr>\n",
       "    <tr>\n",
       "      <th>190</th>\n",
       "      <td>Somalia</td>\n",
       "      <td>107</td>\n",
       "      <td>10</td>\n",
       "      <td>9.35</td>\n",
       "      <td>56</td>\n",
       "      <td>0.52</td>\n",
       "    </tr>\n",
       "    <tr>\n",
       "      <th>191</th>\n",
       "      <td>Luxembourg</td>\n",
       "      <td>413</td>\n",
       "      <td>38</td>\n",
       "      <td>9.20</td>\n",
       "      <td>254</td>\n",
       "      <td>0.62</td>\n",
       "    </tr>\n",
       "    <tr>\n",
       "      <th>192</th>\n",
       "      <td>Liechtenstein</td>\n",
       "      <td>207</td>\n",
       "      <td>17</td>\n",
       "      <td>8.21</td>\n",
       "      <td>93</td>\n",
       "      <td>0.45</td>\n",
       "    </tr>\n",
       "    <tr>\n",
       "      <th>193</th>\n",
       "      <td>Andorra</td>\n",
       "      <td>175</td>\n",
       "      <td>6</td>\n",
       "      <td>3.43</td>\n",
       "      <td>48</td>\n",
       "      <td>0.27</td>\n",
       "    </tr>\n",
       "    <tr>\n",
       "      <th>194</th>\n",
       "      <td>San Marino</td>\n",
       "      <td>172</td>\n",
       "      <td>1</td>\n",
       "      <td>0.58</td>\n",
       "      <td>24</td>\n",
       "      <td>0.14</td>\n",
       "    </tr>\n",
       "  </tbody>\n",
       "</table>\n",
       "</div>"
      ],
      "text/plain": [
       "              Team  Total Matches  Wins  Win %  Goals scored  Goals per match\n",
       "185      Nicaragua            159    28  17.61           144             0.91\n",
       "186          Aruba            122    21  17.21           154             1.26\n",
       "187          Macau            128    21  16.41           107             0.84\n",
       "188          Malta            408    51  12.50           257             0.63\n",
       "189     Seychelles            113    13  11.50            76             0.67\n",
       "190        Somalia            107    10   9.35            56             0.52\n",
       "191     Luxembourg            413    38   9.20           254             0.62\n",
       "192  Liechtenstein            207    17   8.21            93             0.45\n",
       "193        Andorra            175     6   3.43            48             0.27\n",
       "194     San Marino            172     1   0.58            24             0.14"
      ]
     },
     "execution_count": 30,
     "metadata": {},
     "output_type": "execute_result"
    }
   ],
   "source": [
    "best_win_percentage.tail(10)"
   ]
  },
  {
   "cell_type": "markdown",
   "id": "younger-court",
   "metadata": {},
   "source": [
    "From the above data, it seems that the best teams score more goals than the worst teams. Is it a fair statement, or is it more random? Let's attempt to find out."
   ]
  },
  {
   "cell_type": "markdown",
   "id": "catholic-clinton",
   "metadata": {},
   "source": [
    "## Plotting a Line Graph between the teams(in order of Win %) and Goals per game"
   ]
  },
  {
   "cell_type": "code",
   "execution_count": 31,
   "id": "desperate-skiing",
   "metadata": {},
   "outputs": [],
   "source": [
    "%matplotlib inline"
   ]
  },
  {
   "cell_type": "code",
   "execution_count": 32,
   "id": "mexican-geometry",
   "metadata": {},
   "outputs": [
    {
     "data": {
      "text/plain": [
       "Text(0, 0.5, 'Goals per game')"
      ]
     },
     "execution_count": 32,
     "metadata": {},
     "output_type": "execute_result"
    },
    {
     "data": {
      "image/png": "[encoded data removed]",
      "text/plain": [
       "<Figure size 432x288 with 1 Axes>"
      ]
     },
     "metadata": {
      "needs_background": "light"
     },
     "output_type": "display_data"
    }
   ],
   "source": [
    "best_win_percentage.plot(y = 'Goals per match',kind = 'line',legend = False).set_ylabel('Goals per game')"
   ]
  },
  {
   "cell_type": "markdown",
   "id": "serious-thing",
   "metadata": {},
   "source": [
    "Except for some outliers, we can see a general pattern - more successful teams tend to score more goals per match, which is a logical assumption."
   ]
  },
  {
   "cell_type": "code",
   "execution_count": 33,
   "id": "acting-property",
   "metadata": {},
   "outputs": [],
   "source": [
    "best_gpm = best_win_percentage.sort_values('Goals per match',ascending = False)[:10]"
   ]
  },
  {
   "cell_type": "code",
   "execution_count": 34,
   "id": "fifteen-slovak",
   "metadata": {},
   "outputs": [],
   "source": [
    "best_gpm.reset_index(drop = True, inplace = True)"
   ]
  },
  {
   "cell_type": "code",
   "execution_count": 35,
   "id": "polish-sixth",
   "metadata": {},
   "outputs": [
    {
     "data": {
      "application/vnd.plotly.v1+json": {
       "config": {
        "linkText": "Export to plot.ly",
        "plotlyServerURL": "https://plot.ly",
        "showLink": false
       },
       "data": [
        {
         "cells": {
          "align": [
           "center"
          ],
          "fill": {
           "color": [
            "rgb(235, 193, 238)",
            "rgba(228, 222, 249, 0.65)"
           ]
          },
          "font": {
           "size": 13
          },
          "height": 25,
          "values": [
           [
            "New Caledonia",
            "Tahiti",
            "Papua New Guinea",
            "Fiji",
            "Solomon Islands",
            "Germany",
            "Brazil",
            "England",
            "Netherlands",
            "Hungary"
           ],
           [
            227,
            210,
            116,
            221,
            170,
            961,
            985,
            1020,
            796,
            943
           ],
           [
            2.7,
            2.69,
            2.41,
            2.37,
            2.25,
            2.23,
            2.19,
            2.19,
            2.06,
            2.04
           ]
          ]
         },
         "header": {
          "align": [
           "center"
          ],
          "fill": {
           "color": "#ff96ea"
          },
          "font": {
           "color": [
            "rgb(45, 45, 45)",
            "rgb(45, 45, 45)",
            "rgb(45, 45, 45)",
            "rgb(45, 45, 45)",
            "rgb(45, 45, 45)"
           ],
           "size": 14
          },
          "height": 30,
          "values": [
           "Team",
           "Total Matches",
           "Goals Per Match"
          ]
         },
         "type": "table"
        }
       ],
       "layout": {
        "autosize": false,
        "height": 500,
        "margin": {
         "t": 100
        },
        "showlegend": false,
        "template": {
         "data": {
          "bar": [
           {
            "error_x": {
             "color": "#2a3f5f"
            },
            "error_y": {
             "color": "#2a3f5f"
            },
            "marker": {
             "line": {
              "color": "#E5ECF6",
              "width": 0.5
             }
            },
            "type": "bar"
           }
          ],
          "barpolar": [
           {
            "marker": {
             "line": {
              "color": "#E5ECF6",
              "width": 0.5
             }
            },
            "type": "barpolar"
           }
          ],
          "carpet": [
           {
            "aaxis": {
             "endlinecolor": "#2a3f5f",
             "gridcolor": "white",
             "linecolor": "white",
             "minorgridcolor": "white",
             "startlinecolor": "#2a3f5f"
            },
            "baxis": {
             "endlinecolor": "#2a3f5f",
             "gridcolor": "white",
             "linecolor": "white",
             "minorgridcolor": "white",
             "startlinecolor": "#2a3f5f"
            },
            "type": "carpet"
           }
          ],
          "choropleth": [
           {
            "colorbar": {
             "outlinewidth": 0,
             "ticks": ""
            },
            "type": "choropleth"
           }
          ],
          "contour": [
           {
            "colorbar": {
             "outlinewidth": 0,
             "ticks": ""
            },
            "colorscale": [
             [
              0,
              "#0d0887"
             ],
             [
              0.1111111111111111,
              "#46039f"
             ],
             [
              0.2222222222222222,
              "#7201a8"
             ],
             [
              0.3333333333333333,
              "#9c179e"
             ],
             [
              0.4444444444444444,
              "#bd3786"
             ],
             [
              0.5555555555555556,
              "#d8576b"
             ],
             [
              0.6666666666666666,
              "#ed7953"
             ],
             [
              0.7777777777777778,
              "#fb9f3a"
             ],
             [
              0.8888888888888888,
              "#fdca26"
             ],
             [
              1,
              "#f0f921"
             ]
            ],
            "type": "contour"
           }
          ],
          "contourcarpet": [
           {
            "colorbar": {
             "outlinewidth": 0,
             "ticks": ""
            },
            "type": "contourcarpet"
           }
          ],
          "heatmap": [
           {
            "colorbar": {
             "outlinewidth": 0,
             "ticks": ""
            },
            "colorscale": [
             [
              0,
              "#0d0887"
             ],
             [
              0.1111111111111111,
              "#46039f"
             ],
             [
              0.2222222222222222,
              "#7201a8"
             ],
             [
              0.3333333333333333,
              "#9c179e"
             ],
             [
              0.4444444444444444,
              "#bd3786"
             ],
             [
              0.5555555555555556,
              "#d8576b"
             ],
             [
              0.6666666666666666,
              "#ed7953"
             ],
             [
              0.7777777777777778,
              "#fb9f3a"
             ],
             [
              0.8888888888888888,
              "#fdca26"
             ],
             [
              1,
              "#f0f921"
             ]
            ],
            "type": "heatmap"
           }
          ],
          "heatmapgl": [
           {
            "colorbar": {
             "outlinewidth": 0,
             "ticks": ""
            },
            "colorscale": [
             [
              0,
              "#0d0887"
             ],
             [
              0.1111111111111111,
              "#46039f"
             ],
             [
              0.2222222222222222,
              "#7201a8"
             ],
             [
              0.3333333333333333,
              "#9c179e"
             ],
             [
              0.4444444444444444,
              "#bd3786"
             ],
             [
              0.5555555555555556,
              "#d8576b"
             ],
             [
              0.6666666666666666,
              "#ed7953"
             ],
             [
              0.7777777777777778,
              "#fb9f3a"
             ],
             [
              0.8888888888888888,
              "#fdca26"
             ],
             [
              1,
              "#f0f921"
             ]
            ],
            "type": "heatmapgl"
           }
          ],
          "histogram": [
           {
            "marker": {
             "colorbar": {
              "outlinewidth": 0,
              "ticks": ""
             }
            },
            "type": "histogram"
           }
          ],
          "histogram2d": [
           {
            "colorbar": {
             "outlinewidth": 0,
             "ticks": ""
            },
            "colorscale": [
             [
              0,
              "#0d0887"
             ],
             [
              0.1111111111111111,
              "#46039f"
             ],
             [
              0.2222222222222222,
              "#7201a8"
             ],
             [
              0.3333333333333333,
              "#9c179e"
             ],
             [
              0.4444444444444444,
              "#bd3786"
             ],
             [
              0.5555555555555556,
              "#d8576b"
             ],
             [
              0.6666666666666666,
              "#ed7953"
             ],
             [
              0.7777777777777778,
              "#fb9f3a"
             ],
             [
              0.8888888888888888,
              "#fdca26"
             ],
             [
              1,
              "#f0f921"
             ]
            ],
            "type": "histogram2d"
           }
          ],
          "histogram2dcontour": [
           {
            "colorbar": {
             "outlinewidth": 0,
             "ticks": ""
            },
            "colorscale": [
             [
              0,
              "#0d0887"
             ],
             [
              0.1111111111111111,
              "#46039f"
             ],
             [
              0.2222222222222222,
              "#7201a8"
             ],
             [
              0.3333333333333333,
              "#9c179e"
             ],
             [
              0.4444444444444444,
              "#bd3786"
             ],
             [
              0.5555555555555556,
              "#d8576b"
             ],
             [
              0.6666666666666666,
              "#ed7953"
             ],
             [
              0.7777777777777778,
              "#fb9f3a"
             ],
             [
              0.8888888888888888,
              "#fdca26"
             ],
             [
              1,
              "#f0f921"
             ]
            ],
            "type": "histogram2dcontour"
           }
          ],
          "mesh3d": [
           {
            "colorbar": {
             "outlinewidth": 0,
             "ticks": ""
            },
            "type": "mesh3d"
           }
          ],
          "parcoords": [
           {
            "line": {
             "colorbar": {
              "outlinewidth": 0,
              "ticks": ""
             }
            },
            "type": "parcoords"
           }
          ],
          "pie": [
           {
            "automargin": true,
            "type": "pie"
           }
          ],
          "scatter": [
           {
            "marker": {
             "colorbar": {
              "outlinewidth": 0,
              "ticks": ""
             }
            },
            "type": "scatter"
           }
          ],
          "scatter3d": [
           {
            "line": {
             "colorbar": {
              "outlinewidth": 0,
              "ticks": ""
             }
            },
            "marker": {
             "colorbar": {
              "outlinewidth": 0,
              "ticks": ""
             }
            },
            "type": "scatter3d"
           }
          ],
          "scattercarpet": [
           {
            "marker": {
             "colorbar": {
              "outlinewidth": 0,
              "ticks": ""
             }
            },
            "type": "scattercarpet"
           }
          ],
          "scattergeo": [
           {
            "marker": {
             "colorbar": {
              "outlinewidth": 0,
              "ticks": ""
             }
            },
            "type": "scattergeo"
           }
          ],
          "scattergl": [
           {
            "marker": {
             "colorbar": {
              "outlinewidth": 0,
              "ticks": ""
             }
            },
            "type": "scattergl"
           }
          ],
          "scattermapbox": [
           {
            "marker": {
             "colorbar": {
              "outlinewidth": 0,
              "ticks": ""
             }
            },
            "type": "scattermapbox"
           }
          ],
          "scatterpolar": [
           {
            "marker": {
             "colorbar": {
              "outlinewidth": 0,
              "ticks": ""
             }
            },
            "type": "scatterpolar"
           }
          ],
          "scatterpolargl": [
           {
            "marker": {
             "colorbar": {
              "outlinewidth": 0,
              "ticks": ""
             }
            },
            "type": "scatterpolargl"
           }
          ],
          "scatterternary": [
           {
            "marker": {
             "colorbar": {
              "outlinewidth": 0,
              "ticks": ""
             }
            },
            "type": "scatterternary"
           }
          ],
          "surface": [
           {
            "colorbar": {
             "outlinewidth": 0,
             "ticks": ""
            },
            "colorscale": [
             [
              0,
              "#0d0887"
             ],
             [
              0.1111111111111111,
              "#46039f"
             ],
             [
              0.2222222222222222,
              "#7201a8"
             ],
             [
              0.3333333333333333,
              "#9c179e"
             ],
             [
              0.4444444444444444,
              "#bd3786"
             ],
             [
              0.5555555555555556,
              "#d8576b"
             ],
             [
              0.6666666666666666,
              "#ed7953"
             ],
             [
              0.7777777777777778,
              "#fb9f3a"
             ],
             [
              0.8888888888888888,
              "#fdca26"
             ],
             [
              1,
              "#f0f921"
             ]
            ],
            "type": "surface"
           }
          ],
          "table": [
           {
            "cells": {
             "fill": {
              "color": "#EBF0F8"
             },
             "line": {
              "color": "white"
             }
            },
            "header": {
             "fill": {
              "color": "#C8D4E3"
             },
             "line": {
              "color": "white"
             }
            },
            "type": "table"
           }
          ]
         },
         "layout": {
          "annotationdefaults": {
           "arrowcolor": "#2a3f5f",
           "arrowhead": 0,
           "arrowwidth": 1
          },
          "autotypenumbers": "strict",
          "coloraxis": {
           "colorbar": {
            "outlinewidth": 0,
            "ticks": ""
           }
          },
          "colorscale": {
           "diverging": [
            [
             0,
             "#8e0152"
            ],
            [
             0.1,
             "#c51b7d"
            ],
            [
             0.2,
             "#de77ae"
            ],
            [
             0.3,
             "#f1b6da"
            ],
            [
             0.4,
             "#fde0ef"
            ],
            [
             0.5,
             "#f7f7f7"
            ],
            [
             0.6,
             "#e6f5d0"
            ],
            [
             0.7,
             "#b8e186"
            ],
            [
             0.8,
             "#7fbc41"
            ],
            [
             0.9,
             "#4d9221"
            ],
            [
             1,
             "#276419"
            ]
           ],
           "sequential": [
            [
             0,
             "#0d0887"
            ],
            [
             0.1111111111111111,
             "#46039f"
            ],
            [
             0.2222222222222222,
             "#7201a8"
            ],
            [
             0.3333333333333333,
             "#9c179e"
            ],
            [
             0.4444444444444444,
             "#bd3786"
            ],
            [
             0.5555555555555556,
             "#d8576b"
            ],
            [
             0.6666666666666666,
             "#ed7953"
            ],
            [
             0.7777777777777778,
             "#fb9f3a"
            ],
            [
             0.8888888888888888,
             "#fdca26"
            ],
            [
             1,
             "#f0f921"
            ]
           ],
           "sequentialminus": [
            [
             0,
             "#0d0887"
            ],
            [
             0.1111111111111111,
             "#46039f"
            ],
            [
             0.2222222222222222,
             "#7201a8"
            ],
            [
             0.3333333333333333,
             "#9c179e"
            ],
            [
             0.4444444444444444,
             "#bd3786"
            ],
            [
             0.5555555555555556,
             "#d8576b"
            ],
            [
             0.6666666666666666,
             "#ed7953"
            ],
            [
             0.7777777777777778,
             "#fb9f3a"
            ],
            [
             0.8888888888888888,
             "#fdca26"
            ],
            [
             1,
             "#f0f921"
            ]
           ]
          },
          "colorway": [
           "#636efa",
           "#EF553B",
           "#00cc96",
           "#ab63fa",
           "#FFA15A",
           "#19d3f3",
           "#FF6692",
           "#B6E880",
           "#FF97FF",
           "#FECB52"
          ],
          "font": {
           "color": "#2a3f5f"
          },
          "geo": {
           "bgcolor": "white",
           "lakecolor": "white",
           "landcolor": "#E5ECF6",
           "showlakes": true,
           "showland": true,
           "subunitcolor": "white"
          },
          "hoverlabel": {
           "align": "left"
          },
          "hovermode": "closest",
          "mapbox": {
           "style": "light"
          },
          "paper_bgcolor": "white",
          "plot_bgcolor": "#E5ECF6",
          "polar": {
           "angularaxis": {
            "gridcolor": "white",
            "linecolor": "white",
            "ticks": ""
           },
           "bgcolor": "#E5ECF6",
           "radialaxis": {
            "gridcolor": "white",
            "linecolor": "white",
            "ticks": ""
           }
          },
          "scene": {
           "xaxis": {
            "backgroundcolor": "#E5ECF6",
            "gridcolor": "white",
            "gridwidth": 2,
            "linecolor": "white",
            "showbackground": true,
            "ticks": "",
            "zerolinecolor": "white"
           },
           "yaxis": {
            "backgroundcolor": "#E5ECF6",
            "gridcolor": "white",
            "gridwidth": 2,
            "linecolor": "white",
            "showbackground": true,
            "ticks": "",
            "zerolinecolor": "white"
           },
           "zaxis": {
            "backgroundcolor": "#E5ECF6",
            "gridcolor": "white",
            "gridwidth": 2,
            "linecolor": "white",
            "showbackground": true,
            "ticks": "",
            "zerolinecolor": "white"
           }
          },
          "shapedefaults": {
           "line": {
            "color": "#2a3f5f"
           }
          },
          "ternary": {
           "aaxis": {
            "gridcolor": "white",
            "linecolor": "white",
            "ticks": ""
           },
           "baxis": {
            "gridcolor": "white",
            "linecolor": "white",
            "ticks": ""
           },
           "bgcolor": "#E5ECF6",
           "caxis": {
            "gridcolor": "white",
            "linecolor": "white",
            "ticks": ""
           }
          },
          "title": {
           "x": 0.05
          },
          "xaxis": {
           "automargin": true,
           "gridcolor": "white",
           "linecolor": "white",
           "ticks": "",
           "title": {
            "standoff": 15
           },
           "zerolinecolor": "white",
           "zerolinewidth": 2
          },
          "yaxis": {
           "automargin": true,
           "gridcolor": "white",
           "linecolor": "white",
           "ticks": "",
           "title": {
            "standoff": 15
           },
           "zerolinecolor": "white",
           "zerolinewidth": 2
          }
         }
        },
        "title": {
         "text": "Top 10 Teams with the best Goals Per Match ratio"
        },
        "width": 750
       }
      },
      "text/html": [
       "<div>                            <div id=\"cc514a82-143e-4194-bd48-5ca604034362\" class=\"plotly-graph-div\" style=\"height:500px; width:750px;\"></div>            <script type=\"text/javascript\">                require([\"plotly\"], function(Plotly) {                    window.PLOTLYENV=window.PLOTLYENV || {};                                    if (document.getElementById(\"cc514a82-143e-4194-bd48-5ca604034362\")) {                    Plotly.newPlot(                        \"cc514a82-143e-4194-bd48-5ca604034362\",                        [{\"cells\": {\"align\": [\"center\"], \"fill\": {\"color\": [\"rgb(235, 193, 238)\", \"rgba(228, 222, 249, 0.65)\"]}, \"font\": {\"size\": 13}, \"height\": 25, \"values\": [[\"New Caledonia\", \"Tahiti\", \"Papua New Guinea\", \"Fiji\", \"Solomon Islands\", \"Germany\", \"Brazil\", \"England\", \"Netherlands\", \"Hungary\"], [227, 210, 116, 221, 170, 961, 985, 1020, 796, 943], [2.7, 2.69, 2.41, 2.37, 2.25, 2.23, 2.19, 2.19, 2.06, 2.04]]}, \"header\": {\"align\": [\"center\"], \"fill\": {\"color\": \"#ff96ea\"}, \"font\": {\"color\": [\"rgb(45, 45, 45)\", \"rgb(45, 45, 45)\", \"rgb(45, 45, 45)\", \"rgb(45, 45, 45)\", \"rgb(45, 45, 45)\"], \"size\": 14}, \"height\": 30, \"values\": [\"Team\", \"Total Matches\", \"Goals Per Match\"]}, \"type\": \"table\"}],                        {\"autosize\": false, \"height\": 500, \"margin\": {\"t\": 100}, \"showlegend\": false, \"template\": {\"data\": {\"bar\": [{\"error_x\": {\"color\": \"#2a3f5f\"}, \"error_y\": {\"color\": \"#2a3f5f\"}, \"marker\": {\"line\": {\"color\": \"#E5ECF6\", \"width\": 0.5}}, \"type\": \"bar\"}], \"barpolar\": [{\"marker\": {\"line\": {\"color\": \"#E5ECF6\", \"width\": 0.5}}, \"type\": \"barpolar\"}], \"carpet\": [{\"aaxis\": {\"endlinecolor\": \"#2a3f5f\", \"gridcolor\": \"white\", \"linecolor\": \"white\", \"minorgridcolor\": \"white\", \"startlinecolor\": \"#2a3f5f\"}, \"baxis\": {\"endlinecolor\": \"#2a3f5f\", \"gridcolor\": \"white\", \"linecolor\": \"white\", \"minorgridcolor\": \"white\", \"startlinecolor\": \"#2a3f5f\"}, \"type\": \"carpet\"}], \"choropleth\": [{\"colorbar\": {\"outlinewidth\": 0, \"ticks\": \"\"}, \"type\": \"choropleth\"}], \"contour\": [{\"colorbar\": {\"outlinewidth\": 0, \"ticks\": \"\"}, \"colorscale\": [[0.0, \"#0d0887\"], [0.1111111111111111, \"#46039f\"], [0.2222222222222222, \"#7201a8\"], [0.3333333333333333, \"#9c179e\"], [0.4444444444444444, \"#bd3786\"], [0.5555555555555556, \"#d8576b\"], [0.6666666666666666, \"#ed7953\"], [0.7777777777777778, \"#fb9f3a\"], [0.8888888888888888, \"#fdca26\"], [1.0, \"#f0f921\"]], \"type\": \"contour\"}], \"contourcarpet\": [{\"colorbar\": {\"outlinewidth\": 0, \"ticks\": \"\"}, \"type\": \"contourcarpet\"}], \"heatmap\": [{\"colorbar\": {\"outlinewidth\": 0, \"ticks\": \"\"}, \"colorscale\": [[0.0, \"#0d0887\"], [0.1111111111111111, \"#46039f\"], [0.2222222222222222, \"#7201a8\"], [0.3333333333333333, \"#9c179e\"], [0.4444444444444444, \"#bd3786\"], [0.5555555555555556, \"#d8576b\"], [0.6666666666666666, \"#ed7953\"], [0.7777777777777778, \"#fb9f3a\"], [0.8888888888888888, \"#fdca26\"], [1.0, \"#f0f921\"]], \"type\": \"heatmap\"}], \"heatmapgl\": [{\"colorbar\": {\"outlinewidth\": 0, \"ticks\": \"\"}, \"colorscale\": [[0.0, \"#0d0887\"], [0.1111111111111111, \"#46039f\"], [0.2222222222222222, \"#7201a8\"], [0.3333333333333333, \"#9c179e\"], [0.4444444444444444, \"#bd3786\"], [0.5555555555555556, \"#d8576b\"], [0.6666666666666666, \"#ed7953\"], [0.7777777777777778, \"#fb9f3a\"], [0.8888888888888888, \"#fdca26\"], [1.0, \"#f0f921\"]], \"type\": \"heatmapgl\"}], \"histogram\": [{\"marker\": {\"colorbar\": {\"outlinewidth\": 0, \"ticks\": \"\"}}, \"type\": \"histogram\"}], \"histogram2d\": [{\"colorbar\": {\"outlinewidth\": 0, \"ticks\": \"\"}, \"colorscale\": [[0.0, \"#0d0887\"], [0.1111111111111111, \"#46039f\"], [0.2222222222222222, \"#7201a8\"], [0.3333333333333333, \"#9c179e\"], [0.4444444444444444, \"#bd3786\"], [0.5555555555555556, \"#d8576b\"], [0.6666666666666666, \"#ed7953\"], [0.7777777777777778, \"#fb9f3a\"], [0.8888888888888888, \"#fdca26\"], [1.0, \"#f0f921\"]], \"type\": \"histogram2d\"}], \"histogram2dcontour\": [{\"colorbar\": {\"outlinewidth\": 0, \"ticks\": \"\"}, \"colorscale\": [[0.0, \"#0d0887\"], [0.1111111111111111, \"#46039f\"], [0.2222222222222222, \"#7201a8\"], [0.3333333333333333, \"#9c179e\"], [0.4444444444444444, \"#bd3786\"], [0.5555555555555556, \"#d8576b\"], [0.6666666666666666, \"#ed7953\"], [0.7777777777777778, \"#fb9f3a\"], [0.8888888888888888, \"#fdca26\"], [1.0, \"#f0f921\"]], \"type\": \"histogram2dcontour\"}], \"mesh3d\": [{\"colorbar\": {\"outlinewidth\": 0, \"ticks\": \"\"}, \"type\": \"mesh3d\"}], \"parcoords\": [{\"line\": {\"colorbar\": {\"outlinewidth\": 0, \"ticks\": \"\"}}, \"type\": \"parcoords\"}], \"pie\": [{\"automargin\": true, \"type\": \"pie\"}], \"scatter\": [{\"marker\": {\"colorbar\": {\"outlinewidth\": 0, \"ticks\": \"\"}}, \"type\": \"scatter\"}], \"scatter3d\": [{\"line\": {\"colorbar\": {\"outlinewidth\": 0, \"ticks\": \"\"}}, \"marker\": {\"colorbar\": {\"outlinewidth\": 0, \"ticks\": \"\"}}, \"type\": \"scatter3d\"}], \"scattercarpet\": [{\"marker\": {\"colorbar\": {\"outlinewidth\": 0, \"ticks\": \"\"}}, \"type\": \"scattercarpet\"}], \"scattergeo\": [{\"marker\": {\"colorbar\": {\"outlinewidth\": 0, \"ticks\": \"\"}}, \"type\": \"scattergeo\"}], \"scattergl\": [{\"marker\": {\"colorbar\": {\"outlinewidth\": 0, \"ticks\": \"\"}}, \"type\": \"scattergl\"}], \"scattermapbox\": [{\"marker\": {\"colorbar\": {\"outlinewidth\": 0, \"ticks\": \"\"}}, \"type\": \"scattermapbox\"}], \"scatterpolar\": [{\"marker\": {\"colorbar\": {\"outlinewidth\": 0, \"ticks\": \"\"}}, \"type\": \"scatterpolar\"}], \"scatterpolargl\": [{\"marker\": {\"colorbar\": {\"outlinewidth\": 0, \"ticks\": \"\"}}, \"type\": \"scatterpolargl\"}], \"scatterternary\": [{\"marker\": {\"colorbar\": {\"outlinewidth\": 0, \"ticks\": \"\"}}, \"type\": \"scatterternary\"}], \"surface\": [{\"colorbar\": {\"outlinewidth\": 0, \"ticks\": \"\"}, \"colorscale\": [[0.0, \"#0d0887\"], [0.1111111111111111, \"#46039f\"], [0.2222222222222222, \"#7201a8\"], [0.3333333333333333, \"#9c179e\"], [0.4444444444444444, \"#bd3786\"], [0.5555555555555556, \"#d8576b\"], [0.6666666666666666, \"#ed7953\"], [0.7777777777777778, \"#fb9f3a\"], [0.8888888888888888, \"#fdca26\"], [1.0, \"#f0f921\"]], \"type\": \"surface\"}], \"table\": [{\"cells\": {\"fill\": {\"color\": \"#EBF0F8\"}, \"line\": {\"color\": \"white\"}}, \"header\": {\"fill\": {\"color\": \"#C8D4E3\"}, \"line\": {\"color\": \"white\"}}, \"type\": \"table\"}]}, \"layout\": {\"annotationdefaults\": {\"arrowcolor\": \"#2a3f5f\", \"arrowhead\": 0, \"arrowwidth\": 1}, \"autotypenumbers\": \"strict\", \"coloraxis\": {\"colorbar\": {\"outlinewidth\": 0, \"ticks\": \"\"}}, \"colorscale\": {\"diverging\": [[0, \"#8e0152\"], [0.1, \"#c51b7d\"], [0.2, \"#de77ae\"], [0.3, \"#f1b6da\"], [0.4, \"#fde0ef\"], [0.5, \"#f7f7f7\"], [0.6, \"#e6f5d0\"], [0.7, \"#b8e186\"], [0.8, \"#7fbc41\"], [0.9, \"#4d9221\"], [1, \"#276419\"]], \"sequential\": [[0.0, \"#0d0887\"], [0.1111111111111111, \"#46039f\"], [0.2222222222222222, \"#7201a8\"], [0.3333333333333333, \"#9c179e\"], [0.4444444444444444, \"#bd3786\"], [0.5555555555555556, \"#d8576b\"], [0.6666666666666666, \"#ed7953\"], [0.7777777777777778, \"#fb9f3a\"], [0.8888888888888888, \"#fdca26\"], [1.0, \"#f0f921\"]], \"sequentialminus\": [[0.0, \"#0d0887\"], [0.1111111111111111, \"#46039f\"], [0.2222222222222222, \"#7201a8\"], [0.3333333333333333, \"#9c179e\"], [0.4444444444444444, \"#bd3786\"], [0.5555555555555556, \"#d8576b\"], [0.6666666666666666, \"#ed7953\"], [0.7777777777777778, \"#fb9f3a\"], [0.8888888888888888, \"#fdca26\"], [1.0, \"#f0f921\"]]}, \"colorway\": [\"#636efa\", \"#EF553B\", \"#00cc96\", \"#ab63fa\", \"#FFA15A\", \"#19d3f3\", \"#FF6692\", \"#B6E880\", \"#FF97FF\", \"#FECB52\"], \"font\": {\"color\": \"#2a3f5f\"}, \"geo\": {\"bgcolor\": \"white\", \"lakecolor\": \"white\", \"landcolor\": \"#E5ECF6\", \"showlakes\": true, \"showland\": true, \"subunitcolor\": \"white\"}, \"hoverlabel\": {\"align\": \"left\"}, \"hovermode\": \"closest\", \"mapbox\": {\"style\": \"light\"}, \"paper_bgcolor\": \"white\", \"plot_bgcolor\": \"#E5ECF6\", \"polar\": {\"angularaxis\": {\"gridcolor\": \"white\", \"linecolor\": \"white\", \"ticks\": \"\"}, \"bgcolor\": \"#E5ECF6\", \"radialaxis\": {\"gridcolor\": \"white\", \"linecolor\": \"white\", \"ticks\": \"\"}}, \"scene\": {\"xaxis\": {\"backgroundcolor\": \"#E5ECF6\", \"gridcolor\": \"white\", \"gridwidth\": 2, \"linecolor\": \"white\", \"showbackground\": true, \"ticks\": \"\", \"zerolinecolor\": \"white\"}, \"yaxis\": {\"backgroundcolor\": \"#E5ECF6\", \"gridcolor\": \"white\", \"gridwidth\": 2, \"linecolor\": \"white\", \"showbackground\": true, \"ticks\": \"\", \"zerolinecolor\": \"white\"}, \"zaxis\": {\"backgroundcolor\": \"#E5ECF6\", \"gridcolor\": \"white\", \"gridwidth\": 2, \"linecolor\": \"white\", \"showbackground\": true, \"ticks\": \"\", \"zerolinecolor\": \"white\"}}, \"shapedefaults\": {\"line\": {\"color\": \"#2a3f5f\"}}, \"ternary\": {\"aaxis\": {\"gridcolor\": \"white\", \"linecolor\": \"white\", \"ticks\": \"\"}, \"baxis\": {\"gridcolor\": \"white\", \"linecolor\": \"white\", \"ticks\": \"\"}, \"bgcolor\": \"#E5ECF6\", \"caxis\": {\"gridcolor\": \"white\", \"linecolor\": \"white\", \"ticks\": \"\"}}, \"title\": {\"x\": 0.05}, \"xaxis\": {\"automargin\": true, \"gridcolor\": \"white\", \"linecolor\": \"white\", \"ticks\": \"\", \"title\": {\"standoff\": 15}, \"zerolinecolor\": \"white\", \"zerolinewidth\": 2}, \"yaxis\": {\"automargin\": true, \"gridcolor\": \"white\", \"linecolor\": \"white\", \"ticks\": \"\", \"title\": {\"standoff\": 15}, \"zerolinecolor\": \"white\", \"zerolinewidth\": 2}}}, \"title\": {\"text\": \"Top 10 Teams with the best Goals Per Match ratio\"}, \"width\": 750},                        {\"responsive\": true}                    ).then(function(){\n",
       "                            \n",
       "var gd = document.getElementById('cc514a82-143e-4194-bd48-5ca604034362');\n",
       "var x = new MutationObserver(function (mutations, observer) {{\n",
       "        var display = window.getComputedStyle(gd).display;\n",
       "        if (!display || display === 'none') {{\n",
       "            console.log([gd, 'removed!']);\n",
       "            Plotly.purge(gd);\n",
       "            observer.disconnect();\n",
       "        }}\n",
       "}});\n",
       "\n",
       "// Listen for the removal of the full notebook cells\n",
       "var notebookContainer = gd.closest('#notebook-container');\n",
       "if (notebookContainer) {{\n",
       "    x.observe(notebookContainer, {childList: true});\n",
       "}}\n",
       "\n",
       "// Listen for the clearing of the current output cell\n",
       "var outputEl = gd.closest('.output');\n",
       "if (outputEl) {{\n",
       "    x.observe(outputEl, {childList: true});\n",
       "}}\n",
       "\n",
       "                        })                };                });            </script>        </div>"
      ]
     },
     "metadata": {},
     "output_type": "display_data"
    }
   ],
   "source": [
    "trace = [go.Table(\n",
    "    header=dict(values=[\"Team\",\"Total Matches\",\"Goals Per Match\"],\n",
    "                fill = dict(color='#ff96ea'),\n",
    "                font = dict(color=['rgb(45, 45, 45)'] * 5, size=14),\n",
    "                align = ['center'],\n",
    "               height = 30),\n",
    "    cells=dict(values=[best_gpm['Team'], best_gpm['Total Matches'], best_gpm['Goals per match']],\n",
    "               fill = dict(color=['rgb(235, 193, 238)', 'rgba(228, 222, 249, 0.65)']),\n",
    "               align = ['center'], font_size=13, height=25))]\n",
    "\n",
    "layout = dict(\n",
    "    width=750,\n",
    "    height=500,\n",
    "    autosize=False,\n",
    "    title='Top 10 Teams with the best Goals Per Match ratio',\n",
    "    margin = dict(t=100),\n",
    "    showlegend=False,    \n",
    ")\n",
    "\n",
    "fig1 = dict(data=trace, layout=layout)\n",
    "iplot(fig1)"
   ]
  },
  {
   "cell_type": "markdown",
   "id": "destroyed-shore",
   "metadata": {},
   "source": [
    "## Checking for correlation between attributes in the best_win_percentage DataFrame"
   ]
  },
  {
   "cell_type": "markdown",
   "id": "adapted-buddy",
   "metadata": {},
   "source": [
    "As the name suggests, correlation indicates how closely related two attributes are. Correlation can be weak or strong, and positive or negative.  \n",
    "  \n",
    "In pandas, [corr()](https://pandas.pydata.org/pandas-docs/stable/reference/api/pandas.DataFrame.corr.html) is the function used to find out correlation.  \n",
    "  \n",
    "Let's test out corr() on the dataframe."
   ]
  },
  {
   "cell_type": "code",
   "execution_count": 36,
   "id": "turned-penguin",
   "metadata": {},
   "outputs": [
    {
     "data": {
      "text/html": [
       "<div>\n",
       "<style scoped>\n",
       "    .dataframe tbody tr th:only-of-type {\n",
       "        vertical-align: middle;\n",
       "    }\n",
       "\n",
       "    .dataframe tbody tr th {\n",
       "        vertical-align: top;\n",
       "    }\n",
       "\n",
       "    .dataframe thead th {\n",
       "        text-align: right;\n",
       "    }\n",
       "</style>\n",
       "<table border=\"1\" class=\"dataframe\">\n",
       "  <thead>\n",
       "    <tr style=\"text-align: right;\">\n",
       "      <th></th>\n",
       "      <th>Total Matches</th>\n",
       "      <th>Wins</th>\n",
       "      <th>Win %</th>\n",
       "      <th>Goals scored</th>\n",
       "      <th>Goals per match</th>\n",
       "    </tr>\n",
       "  </thead>\n",
       "  <tbody>\n",
       "    <tr>\n",
       "      <th>Total Matches</th>\n",
       "      <td>1.000000</td>\n",
       "      <td>0.947258</td>\n",
       "      <td>0.595037</td>\n",
       "      <td>0.947557</td>\n",
       "      <td>0.425791</td>\n",
       "    </tr>\n",
       "    <tr>\n",
       "      <th>Wins</th>\n",
       "      <td>0.947258</td>\n",
       "      <td>1.000000</td>\n",
       "      <td>0.761556</td>\n",
       "      <td>0.986651</td>\n",
       "      <td>0.591201</td>\n",
       "    </tr>\n",
       "    <tr>\n",
       "      <th>Win %</th>\n",
       "      <td>0.595037</td>\n",
       "      <td>0.761556</td>\n",
       "      <td>1.000000</td>\n",
       "      <td>0.733518</td>\n",
       "      <td>0.861200</td>\n",
       "    </tr>\n",
       "    <tr>\n",
       "      <th>Goals scored</th>\n",
       "      <td>0.947557</td>\n",
       "      <td>0.986651</td>\n",
       "      <td>0.733518</td>\n",
       "      <td>1.000000</td>\n",
       "      <td>0.630256</td>\n",
       "    </tr>\n",
       "    <tr>\n",
       "      <th>Goals per match</th>\n",
       "      <td>0.425791</td>\n",
       "      <td>0.591201</td>\n",
       "      <td>0.861200</td>\n",
       "      <td>0.630256</td>\n",
       "      <td>1.000000</td>\n",
       "    </tr>\n",
       "  </tbody>\n",
       "</table>\n",
       "</div>"
      ],
      "text/plain": [
       "                 Total Matches      Wins     Win %  Goals scored  \\\n",
       "Total Matches         1.000000  0.947258  0.595037      0.947557   \n",
       "Wins                  0.947258  1.000000  0.761556      0.986651   \n",
       "Win %                 0.595037  0.761556  1.000000      0.733518   \n",
       "Goals scored          0.947557  0.986651  0.733518      1.000000   \n",
       "Goals per match       0.425791  0.591201  0.861200      0.630256   \n",
       "\n",
       "                 Goals per match  \n",
       "Total Matches           0.425791  \n",
       "Wins                    0.591201  \n",
       "Win %                   0.861200  \n",
       "Goals scored            0.630256  \n",
       "Goals per match         1.000000  "
      ]
     },
     "execution_count": 36,
     "metadata": {},
     "output_type": "execute_result"
    }
   ],
   "source": [
    "best_win_percentage.corr()"
   ]
  },
  {
   "cell_type": "markdown",
   "id": "vanilla-steering",
   "metadata": {},
   "source": [
    "By default, **corr()** gives us the correlation between every attribute of the dataframe. The values range from -1 to 1, with the extremes signifying strong correlation(either positive or negative), while values close to 0 indicate weak correlation.  \n",
    "  \n",
    "By default, the **Pearson** method is used to find out the correlation. Other methods are **Kendall**, and **Spearman** method.  \n",
    "  \n",
    "Let's test the correlation between **Win %** and **Goals per match** using the mentioned methods."
   ]
  },
  {
   "cell_type": "code",
   "execution_count": 37,
   "id": "gross-consultation",
   "metadata": {},
   "outputs": [
    {
     "data": {
      "text/html": [
       "<div>\n",
       "<style scoped>\n",
       "    .dataframe tbody tr th:only-of-type {\n",
       "        vertical-align: middle;\n",
       "    }\n",
       "\n",
       "    .dataframe tbody tr th {\n",
       "        vertical-align: top;\n",
       "    }\n",
       "\n",
       "    .dataframe thead th {\n",
       "        text-align: right;\n",
       "    }\n",
       "</style>\n",
       "<table border=\"1\" class=\"dataframe\">\n",
       "  <thead>\n",
       "    <tr style=\"text-align: right;\">\n",
       "      <th></th>\n",
       "      <th>Win %</th>\n",
       "      <th>Goals per match</th>\n",
       "    </tr>\n",
       "  </thead>\n",
       "  <tbody>\n",
       "    <tr>\n",
       "      <th>Win %</th>\n",
       "      <td>1.0000</td>\n",
       "      <td>0.8612</td>\n",
       "    </tr>\n",
       "    <tr>\n",
       "      <th>Goals per match</th>\n",
       "      <td>0.8612</td>\n",
       "      <td>1.0000</td>\n",
       "    </tr>\n",
       "  </tbody>\n",
       "</table>\n",
       "</div>"
      ],
      "text/plain": [
       "                  Win %  Goals per match\n",
       "Win %            1.0000           0.8612\n",
       "Goals per match  0.8612           1.0000"
      ]
     },
     "execution_count": 37,
     "metadata": {},
     "output_type": "execute_result"
    }
   ],
   "source": [
    "best_win_percentage[['Win %','Goals per match']].corr()"
   ]
  },
  {
   "cell_type": "code",
   "execution_count": 38,
   "id": "configured-nebraska",
   "metadata": {},
   "outputs": [
    {
     "data": {
      "text/html": [
       "<div>\n",
       "<style scoped>\n",
       "    .dataframe tbody tr th:only-of-type {\n",
       "        vertical-align: middle;\n",
       "    }\n",
       "\n",
       "    .dataframe tbody tr th {\n",
       "        vertical-align: top;\n",
       "    }\n",
       "\n",
       "    .dataframe thead th {\n",
       "        text-align: right;\n",
       "    }\n",
       "</style>\n",
       "<table border=\"1\" class=\"dataframe\">\n",
       "  <thead>\n",
       "    <tr style=\"text-align: right;\">\n",
       "      <th></th>\n",
       "      <th>Win %</th>\n",
       "      <th>Goals per match</th>\n",
       "    </tr>\n",
       "  </thead>\n",
       "  <tbody>\n",
       "    <tr>\n",
       "      <th>Win %</th>\n",
       "      <td>1.000000</td>\n",
       "      <td>0.716461</td>\n",
       "    </tr>\n",
       "    <tr>\n",
       "      <th>Goals per match</th>\n",
       "      <td>0.716461</td>\n",
       "      <td>1.000000</td>\n",
       "    </tr>\n",
       "  </tbody>\n",
       "</table>\n",
       "</div>"
      ],
      "text/plain": [
       "                    Win %  Goals per match\n",
       "Win %            1.000000         0.716461\n",
       "Goals per match  0.716461         1.000000"
      ]
     },
     "execution_count": 38,
     "metadata": {},
     "output_type": "execute_result"
    }
   ],
   "source": [
    "best_win_percentage[['Win %','Goals per match']].corr(method = 'kendall')"
   ]
  },
  {
   "cell_type": "code",
   "execution_count": 39,
   "id": "informal-brisbane",
   "metadata": {},
   "outputs": [
    {
     "data": {
      "text/html": [
       "<div>\n",
       "<style scoped>\n",
       "    .dataframe tbody tr th:only-of-type {\n",
       "        vertical-align: middle;\n",
       "    }\n",
       "\n",
       "    .dataframe tbody tr th {\n",
       "        vertical-align: top;\n",
       "    }\n",
       "\n",
       "    .dataframe thead th {\n",
       "        text-align: right;\n",
       "    }\n",
       "</style>\n",
       "<table border=\"1\" class=\"dataframe\">\n",
       "  <thead>\n",
       "    <tr style=\"text-align: right;\">\n",
       "      <th></th>\n",
       "      <th>Win %</th>\n",
       "      <th>Goals per match</th>\n",
       "    </tr>\n",
       "  </thead>\n",
       "  <tbody>\n",
       "    <tr>\n",
       "      <th>Win %</th>\n",
       "      <td>1.000000</td>\n",
       "      <td>0.882356</td>\n",
       "    </tr>\n",
       "    <tr>\n",
       "      <th>Goals per match</th>\n",
       "      <td>0.882356</td>\n",
       "      <td>1.000000</td>\n",
       "    </tr>\n",
       "  </tbody>\n",
       "</table>\n",
       "</div>"
      ],
      "text/plain": [
       "                    Win %  Goals per match\n",
       "Win %            1.000000         0.882356\n",
       "Goals per match  0.882356         1.000000"
      ]
     },
     "execution_count": 39,
     "metadata": {},
     "output_type": "execute_result"
    }
   ],
   "source": [
    "best_win_percentage[['Win %','Goals per match']].corr(method = 'spearman')"
   ]
  },
  {
   "cell_type": "markdown",
   "id": "european-regression",
   "metadata": {},
   "source": [
    "We get 3 values - **0.8612**,**0.716461**, and **0.882356** for the correlation between the attributes. As the values are greater than zero and are close to 1, we can identify a **fairly strong correlation** between them. So there does exist a correlation between winning more % of games, and scoring more goals per match."
   ]
  },
  {
   "cell_type": "markdown",
   "id": "given-gilbert",
   "metadata": {},
   "source": [
    "### On the basis of the analysis done above, we can generally say that the teams with a better winning % do tend to score more goals per game."
   ]
  },
  {
   "cell_type": "markdown",
   "id": "difficult-surprise",
   "metadata": {},
   "source": [
    "## Making a Simple Linear Regression Model"
   ]
  },
  {
   "cell_type": "markdown",
   "id": "logical-information",
   "metadata": {},
   "source": [
    "**Linear Regression** is a supervised machine learning algorithm where the predicted output is continuous and has a constant slope. It’s used to predict values within a continuous range.  \n",
    "  \n",
    "Here we are using the *Win %* to predict the *Goals per match* ratio. Then we compare the predicted values to the actual values available to us, and check whether the general pattern is the same or not.  \n",
    "  \n",
    "As we are only using 2 variables here, it is a **Simple Linear Regression Model**."
   ]
  },
  {
   "cell_type": "code",
   "execution_count": 40,
   "id": "reduced-canal",
   "metadata": {},
   "outputs": [],
   "source": [
    "from sklearn.linear_model import LinearRegression"
   ]
  },
  {
   "cell_type": "code",
   "execution_count": 41,
   "id": "prescription-stress",
   "metadata": {},
   "outputs": [],
   "source": [
    "x = best_win_percentage[['Win %']]\n",
    "y = best_win_percentage[['Goals per match']]\n",
    "regressor = LinearRegression()"
   ]
  },
  {
   "cell_type": "code",
   "execution_count": 42,
   "id": "delayed-circus",
   "metadata": {},
   "outputs": [
    {
     "data": {
      "text/plain": [
       "LinearRegression()"
      ]
     },
     "execution_count": 42,
     "metadata": {},
     "output_type": "execute_result"
    }
   ],
   "source": [
    "regressor.fit(x, y)"
   ]
  },
  {
   "cell_type": "code",
   "execution_count": 43,
   "id": "robust-thought",
   "metadata": {},
   "outputs": [],
   "source": [
    "y_pred = regressor.predict(x)"
   ]
  },
  {
   "cell_type": "code",
   "execution_count": 44,
   "id": "architectural-painting",
   "metadata": {},
   "outputs": [
    {
     "data": {
      "text/plain": [
       "array([[2.27008442],\n",
       "       [2.09584935],\n",
       "       [2.09490924],\n",
       "       [2.05072373],\n",
       "       [1.98554226],\n",
       "       [1.95796549],\n",
       "       [1.95357828],\n",
       "       [1.93226895],\n",
       "       [1.92631488],\n",
       "       [1.92537476],\n",
       "       [1.91722708],\n",
       "       [1.89529101],\n",
       "       [1.86896773],\n",
       "       [1.85925318],\n",
       "       [1.85705957],\n",
       "       [1.83387002],\n",
       "       [1.82760257],\n",
       "       [1.82666245],\n",
       "       [1.80848685],\n",
       "       [1.80127928],\n",
       "       [1.79062462],\n",
       "       [1.78373043],\n",
       "       [1.77777635],\n",
       "       [1.77088216],\n",
       "       [1.76304785],\n",
       "       [1.75646703],\n",
       "       [1.74111178],\n",
       "       [1.73766468],\n",
       "       [1.72230944],\n",
       "       [1.72168269],\n",
       "       [1.71666873],\n",
       "       [1.71071466],\n",
       "       [1.70350709],\n",
       "       [1.70162686],\n",
       "       [1.684078  ],\n",
       "       [1.67781055],\n",
       "       [1.6749902 ],\n",
       "       [1.66057507],\n",
       "       [1.6568146 ],\n",
       "       [1.65650123],\n",
       "       [1.64521982],\n",
       "       [1.6442797 ],\n",
       "       [1.6442797 ],\n",
       "       [1.64145935],\n",
       "       [1.64051924],\n",
       "       [1.63205818],\n",
       "       [1.6295512 ],\n",
       "       [1.62641748],\n",
       "       [1.6261041 ],\n",
       "       [1.62485061],\n",
       "       [1.62077677],\n",
       "       [1.62015003],\n",
       "       [1.61795642],\n",
       "       [1.60040757],\n",
       "       [1.5988407 ],\n",
       "       [1.59602035],\n",
       "       [1.59602035],\n",
       "       [1.59445349],\n",
       "       [1.58661918],\n",
       "       [1.57721801],\n",
       "       [1.57659126],\n",
       "       [1.57126393],\n",
       "       [1.56875695],\n",
       "       [1.5659366 ],\n",
       "       [1.5568488 ],\n",
       "       [1.54086681],\n",
       "       [1.53679297],\n",
       "       [1.53271912],\n",
       "       [1.53271912],\n",
       "       [1.53271912],\n",
       "       [1.52582493],\n",
       "       [1.51736388],\n",
       "       [1.50984294],\n",
       "       [1.50106851],\n",
       "       [1.49950165],\n",
       "       [1.49574118],\n",
       "       [1.48508652],\n",
       "       [1.47787895],\n",
       "       [1.46785103],\n",
       "       [1.46753766],\n",
       "       [1.46565743],\n",
       "       [1.45970335],\n",
       "       [1.45280916],\n",
       "       [1.44967543],\n",
       "       [1.44748183],\n",
       "       [1.43243995],\n",
       "       [1.43118646],\n",
       "       [1.4296196 ],\n",
       "       [1.42867948],\n",
       "       [1.42679925],\n",
       "       [1.42209866],\n",
       "       [1.41614459],\n",
       "       [1.41614459],\n",
       "       [1.411444  ],\n",
       "       [1.4058033 ],\n",
       "       [1.39640212],\n",
       "       [1.3932684 ],\n",
       "       [1.38794107],\n",
       "       [1.38324048],\n",
       "       [1.38167362],\n",
       "       [1.38104688],\n",
       "       [1.37415268],\n",
       "       [1.37352594],\n",
       "       [1.37227245],\n",
       "       [1.37039221],\n",
       "       [1.36193116],\n",
       "       [1.35973755],\n",
       "       [1.35879743],\n",
       "       [1.35785732],\n",
       "       [1.35472359],\n",
       "       [1.34939626],\n",
       "       [1.33842823],\n",
       "       [1.33184741],\n",
       "       [1.32840031],\n",
       "       [1.3262067 ],\n",
       "       [1.32119274],\n",
       "       [1.32119274],\n",
       "       [1.31335843],\n",
       "       [1.30834448],\n",
       "       [1.29204911],\n",
       "       [1.27951421],\n",
       "       [1.27888747],\n",
       "       [1.27732061],\n",
       "       [1.27606712],\n",
       "       [1.27356014],\n",
       "       [1.2660392 ],\n",
       "       [1.24849034],\n",
       "       [1.24253627],\n",
       "       [1.23689557],\n",
       "       [1.23501533],\n",
       "       [1.22937463],\n",
       "       [1.22749439],\n",
       "       [1.22373392],\n",
       "       [1.21589961],\n",
       "       [1.21433275],\n",
       "       [1.21433275],\n",
       "       [1.21339263],\n",
       "       [1.20618507],\n",
       "       [1.19866413],\n",
       "       [1.19647052],\n",
       "       [1.19521703],\n",
       "       [1.18706935],\n",
       "       [1.16105944],\n",
       "       [1.15228501],\n",
       "       [1.14695768],\n",
       "       [1.13160243],\n",
       "       [1.13097569],\n",
       "       [1.13003557],\n",
       "       [1.12126114],\n",
       "       [1.12032103],\n",
       "       [1.12000765],\n",
       "       [1.11906754],\n",
       "       [1.11593381],\n",
       "       [1.10527915],\n",
       "       [1.09368437],\n",
       "       [1.08459657],\n",
       "       [1.08146285],\n",
       "       [1.06798783],\n",
       "       [1.06422736],\n",
       "       [1.03947094],\n",
       "       [1.02599593],\n",
       "       [1.02317558],\n",
       "       [1.01910174],\n",
       "       [1.01064068],\n",
       "       [1.00343312],\n",
       "       [1.00123951],\n",
       "       [0.98651101],\n",
       "       [0.98118367],\n",
       "       [0.95109992],\n",
       "       [0.94044526],\n",
       "       [0.93731154],\n",
       "       [0.93292432],\n",
       "       [0.89563301],\n",
       "       [0.89563301],\n",
       "       [0.89281265],\n",
       "       [0.89249928],\n",
       "       [0.89030567],\n",
       "       [0.86523588],\n",
       "       [0.86492251],\n",
       "       [0.86460914],\n",
       "       [0.85865506],\n",
       "       [0.8445533 ],\n",
       "       [0.84235969],\n",
       "       [0.83734574],\n",
       "       [0.83295852],\n",
       "       [0.820737  ],\n",
       "       [0.8082021 ],\n",
       "       [0.78313231],\n",
       "       [0.66060369],\n",
       "       [0.62926645],\n",
       "       [0.56189138],\n",
       "       [0.5571908 ],\n",
       "       [0.52616693],\n",
       "       [0.37637491],\n",
       "       [0.28706378]])"
      ]
     },
     "execution_count": 44,
     "metadata": {},
     "output_type": "execute_result"
    }
   ],
   "source": [
    "y_pred"
   ]
  },
  {
   "cell_type": "markdown",
   "id": "disabled-squad",
   "metadata": {},
   "source": [
    "We see that y_pred is an array. The values are the predicted values for *Goals per match*, predicted using the *Win %* given to it. Let's compare these values to the actual values, which we have stored in y."
   ]
  },
  {
   "cell_type": "code",
   "execution_count": 45,
   "id": "bearing-repair",
   "metadata": {},
   "outputs": [],
   "source": [
    "import matplotlib.pyplot as plt"
   ]
  },
  {
   "cell_type": "code",
   "execution_count": 46,
   "id": "limiting-morgan",
   "metadata": {},
   "outputs": [
    {
     "data": {
      "image/png": "[encoded data removed]",
      "text/plain": [
       "<Figure size 432x288 with 1 Axes>"
      ]
     },
     "metadata": {
      "needs_background": "light"
     },
     "output_type": "display_data"
    }
   ],
   "source": [
    "plt.scatter(x, y, color = 'red')\n",
    "plt.plot(x, y_pred, color = 'blue')\n",
    "plt.title('Win % vs Goals per match')\n",
    "plt.xlabel('Win %')\n",
    "plt.ylabel('Goals per match')\n",
    "plt.show()"
   ]
  },
  {
   "cell_type": "markdown",
   "id": "dress-villa",
   "metadata": {},
   "source": [
    "The blue line is the predicted value. We can see that although there are some outliers and a bit of variance, the general pattern is the same. The prediction model, which is admittedly very basic and limited, has done a fairly decent job.  \n",
    "  \n",
    "Now let's use an inbuilt LinearRegression Model method to estimate the accuracy of this model."
   ]
  },
  {
   "cell_type": "code",
   "execution_count": 47,
   "id": "contrary-christian",
   "metadata": {},
   "outputs": [
    {
     "data": {
      "text/plain": [
       "0.741664735342952"
      ]
     },
     "execution_count": 47,
     "metadata": {},
     "output_type": "execute_result"
    }
   ],
   "source": [
    "regressor.score(x,y)"
   ]
  },
  {
   "cell_type": "markdown",
   "id": "ranging-leonard",
   "metadata": {},
   "source": [
    "The *score()* method for a LinearRegression() object gives the the coefficient of determination(R<sup>2</sup>) of the prediction. [For more about R<sup>2</sup>, click here](https://www.statisticshowto.com/probability-and-statistics/coefficient-of-determination-r-squared/)  \n",
    "  \n",
    "The score value ranges from 0 to 1, with 1 being the best. The score gives an idea of how many data points fall within the results of the line formed by the regression equation. The higher the coefficient, the higher percentage of points the line passes through when the data points and line are plotted.  \n",
    "  \n",
    "A score of 0.7416 means that this model is fairly accurate."
   ]
  },
  {
   "cell_type": "markdown",
   "id": "arctic-class",
   "metadata": {},
   "source": [
    "**The Data Analysis ends here.**  \n",
    "  \n",
    "The following steps are done to find out the dependencies used, in order to create an interactive Binder file."
   ]
  },
  {
   "cell_type": "code",
   "execution_count": 48,
   "id": "ready-memorabilia",
   "metadata": {},
   "outputs": [],
   "source": [
    "%load_ext watermark"
   ]
  },
  {
   "cell_type": "code",
   "execution_count": 49,
   "id": "cheap-minute",
   "metadata": {},
   "outputs": [
    {
     "name": "stdout",
     "output_type": "stream",
     "text": [
      "numpy       : 1.20.2\n",
      "plotly      : 4.14.3\n",
      "matplotlib  : 3.4.2\n",
      "pandas      : 1.2.3\n",
      "chart_studio: 1.1.0\n",
      "\n"
     ]
    }
   ],
   "source": [
    "%watermark --iversions"
   ]
  }
 ],
 "metadata": {
  "kernelspec": {
   "display_name": "Python 3",
   "language": "python",
   "name": "python3"
  },
  "language_info": {
   "codemirror_mode": {
    "name": "ipython",
    "version": 3
   },
   "file_extension": ".py",
   "mimetype": "text/x-python",
   "name": "python",
   "nbconvert_exporter": "python",
   "pygments_lexer": "ipython3",
   "version": "3.9.1"
  }
 },
 "nbformat": 4,
 "nbformat_minor": 5
}
